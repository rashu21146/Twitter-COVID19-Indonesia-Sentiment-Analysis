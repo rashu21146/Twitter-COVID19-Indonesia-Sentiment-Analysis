{
 "cells": [
  {
   "cell_type": "markdown",
   "metadata": {},
   "source": [
    "# Import Packages"
   ]
  },
  {
   "cell_type": "code",
   "execution_count": 1,
   "metadata": {},
   "outputs": [],
   "source": [
    "import pandas as pd\n",
    "import numpy as np\n",
    "from datetime import datetime,timedelta\n",
    "import pytz \n",
    "import re\n",
    "import nltk\n",
    "from nltk.corpus import stopwords\n",
    "from nltk.tokenize import word_tokenize\n",
    "import ast\n",
    "import string\n",
    "from wordcloud import WordCloud\n",
    "from Sastrawi.Stemmer.StemmerFactory import StemmerFactory\n",
    "import itertools\n",
    "import matplotlib.pyplot as plt\n",
    "import seaborn as sns\n",
    "from googletrans import Translator"
   ]
  },
  {
   "cell_type": "markdown",
   "metadata": {},
   "source": [
    "# Import Data"
   ]
  },
  {
   "cell_type": "code",
   "execution_count": 2,
   "metadata": {},
   "outputs": [],
   "source": [
    "df = pd.read_csv('data/data_extraction/covid19_indonesia.csv')\n",
    "\n",
    "jakarta = pytz.timezone('Asia/Jakarta')\n",
    "df['datetime_created'] = df['created_at'].apply(lambda x: datetime.strptime(x,'%a %b %d %H:%M:%S %z %Y').replace(tzinfo=pytz.UTC).astimezone(jakarta))\n",
    "df['date_created'] = df['datetime_created'].apply(lambda x: x.date())\n",
    "df['time_created'] = df['datetime_created'].apply(lambda x: x.time())\n",
    "df = df.drop(['datetime_created'],axis=1)"
   ]
  },
  {
   "cell_type": "code",
   "execution_count": 3,
   "metadata": {},
   "outputs": [
    {
     "data": {
      "text/html": [
       "<div>\n",
       "<style scoped>\n",
       "    .dataframe tbody tr th:only-of-type {\n",
       "        vertical-align: middle;\n",
       "    }\n",
       "\n",
       "    .dataframe tbody tr th {\n",
       "        vertical-align: top;\n",
       "    }\n",
       "\n",
       "    .dataframe thead th {\n",
       "        text-align: right;\n",
       "    }\n",
       "</style>\n",
       "<table border=\"1\" class=\"dataframe\">\n",
       "  <thead>\n",
       "    <tr style=\"text-align: right;\">\n",
       "      <th></th>\n",
       "      <th>id</th>\n",
       "      <th>created_at</th>\n",
       "      <th>source</th>\n",
       "      <th>original_text</th>\n",
       "      <th>clean_text</th>\n",
       "      <th>lang</th>\n",
       "      <th>favorite_count</th>\n",
       "      <th>retweet_count</th>\n",
       "      <th>original_author</th>\n",
       "      <th>possibly_sensitive</th>\n",
       "      <th>hashtags</th>\n",
       "      <th>user_mentions</th>\n",
       "      <th>place</th>\n",
       "      <th>place_coord_boundaries</th>\n",
       "      <th>date_created</th>\n",
       "      <th>time_created</th>\n",
       "    </tr>\n",
       "  </thead>\n",
       "  <tbody>\n",
       "    <tr>\n",
       "      <th>0</th>\n",
       "      <td>1266039172315230209</td>\n",
       "      <td>Thu May 28 16:10:35 +0000 2020</td>\n",
       "      <td>&lt;a href=\"http://twitter.com/download/android\" ...</td>\n",
       "      <td>RT @ridwankamil: Minggu ini 60% Kota/Kab Jabar...</td>\n",
       "      <td>kota kabupaten jabar zona biru level zona kuni...</td>\n",
       "      <td>in</td>\n",
       "      <td>0</td>\n",
       "      <td>342</td>\n",
       "      <td>cmdblck</td>\n",
       "      <td>NaN</td>\n",
       "      <td>NaN</td>\n",
       "      <td>ridwankamil</td>\n",
       "      <td>NaN</td>\n",
       "      <td>NaN</td>\n",
       "      <td>2020-05-28</td>\n",
       "      <td>23:10:35</td>\n",
       "    </tr>\n",
       "    <tr>\n",
       "      <th>1</th>\n",
       "      <td>1266039166350983169</td>\n",
       "      <td>Thu May 28 16:10:33 +0000 2020</td>\n",
       "      <td>&lt;a href=\"http://twitter.com/download/android\" ...</td>\n",
       "      <td>RT @kompascom: Pembukaan mal tidak berarti aka...</td>\n",
       "      <td>pembukaan mal tidak berdampak masyarakat kecil...</td>\n",
       "      <td>in</td>\n",
       "      <td>0</td>\n",
       "      <td>12</td>\n",
       "      <td>Gulagulalibosku</td>\n",
       "      <td>NaN</td>\n",
       "      <td>NaN</td>\n",
       "      <td>kompascom</td>\n",
       "      <td>Bandung, Jawa Barat</td>\n",
       "      <td>NaN</td>\n",
       "      <td>2020-05-28</td>\n",
       "      <td>23:10:33</td>\n",
       "    </tr>\n",
       "    <tr>\n",
       "      <th>2</th>\n",
       "      <td>1266039153487044608</td>\n",
       "      <td>Thu May 28 16:10:30 +0000 2020</td>\n",
       "      <td>&lt;a href=\"http://twitter.com/download/android\" ...</td>\n",
       "      <td>Pemerintah tentunya sudah melakukan kajian/per...</td>\n",
       "      <td>pemerintah melakukan kajian pertimbangan matan...</td>\n",
       "      <td>in</td>\n",
       "      <td>0</td>\n",
       "      <td>0</td>\n",
       "      <td>HmfaqihA</td>\n",
       "      <td>NaN</td>\n",
       "      <td>NaN</td>\n",
       "      <td>NaN</td>\n",
       "      <td>NaN</td>\n",
       "      <td>NaN</td>\n",
       "      <td>2020-05-28</td>\n",
       "      <td>23:10:30</td>\n",
       "    </tr>\n",
       "    <tr>\n",
       "      <th>3</th>\n",
       "      <td>1266039147149422592</td>\n",
       "      <td>Thu May 28 16:10:29 +0000 2020</td>\n",
       "      <td>&lt;a href=\"https://mobile.twitter.com\" rel=\"nofo...</td>\n",
       "      <td>RT @Covid19Update24: Indonesia #COVID19 growth...</td>\n",
       "      <td>indonesia growth rate is fastest in asean regi...</td>\n",
       "      <td>en</td>\n",
       "      <td>0</td>\n",
       "      <td>111</td>\n",
       "      <td>Summa_CL</td>\n",
       "      <td>NaN</td>\n",
       "      <td>COVID19</td>\n",
       "      <td>Covid19Update24</td>\n",
       "      <td>Road to Success🌟</td>\n",
       "      <td>NaN</td>\n",
       "      <td>2020-05-28</td>\n",
       "      <td>23:10:29</td>\n",
       "    </tr>\n",
       "    <tr>\n",
       "      <th>4</th>\n",
       "      <td>1266039127834636291</td>\n",
       "      <td>Thu May 28 16:10:24 +0000 2020</td>\n",
       "      <td>&lt;a href=\"http://twitter.com/download/android\" ...</td>\n",
       "      <td>@iksansaptari Hahaha\\r\\nKokojo\\r\\nAing arek no...</td>\n",
       "      <td>hahaha kokojo arek nonton hindia poe samemeh p...</td>\n",
       "      <td>in</td>\n",
       "      <td>0</td>\n",
       "      <td>0</td>\n",
       "      <td>Prayogaaaaaaa</td>\n",
       "      <td>NaN</td>\n",
       "      <td>NaN</td>\n",
       "      <td>iksansaptari</td>\n",
       "      <td>Ciamis, Indonesia</td>\n",
       "      <td>[[108.391549, -7.363503], [108.494179, -7.3635...</td>\n",
       "      <td>2020-05-28</td>\n",
       "      <td>23:10:24</td>\n",
       "    </tr>\n",
       "    <tr>\n",
       "      <th>5</th>\n",
       "      <td>1266039123531280384</td>\n",
       "      <td>Thu May 28 16:10:23 +0000 2020</td>\n",
       "      <td>&lt;a href=\"http://twitter.com/download/android\" ...</td>\n",
       "      <td>@Asknonym Itu lucu kok. Tapi pertanyaan gue pa...</td>\n",
       "      <td>lucu pas bilang jalan jalan deh ga psbb daerah</td>\n",
       "      <td>in</td>\n",
       "      <td>0</td>\n",
       "      <td>0</td>\n",
       "      <td>apotatohuman</td>\n",
       "      <td>NaN</td>\n",
       "      <td>NaN</td>\n",
       "      <td>Asknonym</td>\n",
       "      <td>Indonesia</td>\n",
       "      <td>NaN</td>\n",
       "      <td>2020-05-28</td>\n",
       "      <td>23:10:23</td>\n",
       "    </tr>\n",
       "    <tr>\n",
       "      <th>6</th>\n",
       "      <td>1266039120595304450</td>\n",
       "      <td>Thu May 28 16:10:22 +0000 2020</td>\n",
       "      <td>&lt;a href=\"http://twitter.com/download/android\" ...</td>\n",
       "      <td>RT @Bandungfess: Euy diperpanjang ceunah psbb ...</td>\n",
       "      <td>euy diperpanjang ceunah psbb na</td>\n",
       "      <td>in</td>\n",
       "      <td>0</td>\n",
       "      <td>72</td>\n",
       "      <td>Ririnrindiynt</td>\n",
       "      <td>False</td>\n",
       "      <td>NaN</td>\n",
       "      <td>Bandungfess</td>\n",
       "      <td>NaN</td>\n",
       "      <td>NaN</td>\n",
       "      <td>2020-05-28</td>\n",
       "      <td>23:10:22</td>\n",
       "    </tr>\n",
       "    <tr>\n",
       "      <th>7</th>\n",
       "      <td>1266039113712427010</td>\n",
       "      <td>Thu May 28 16:10:21 +0000 2020</td>\n",
       "      <td>&lt;a href=\"http://twitter.com/download/android\" ...</td>\n",
       "      <td>Orang yg masih ga menerapkan social distancing...</td>\n",
       "      <td>ga menerapkan social distancing psbb pikiranny...</td>\n",
       "      <td>in</td>\n",
       "      <td>0</td>\n",
       "      <td>0</td>\n",
       "      <td>DelimaOctaviani</td>\n",
       "      <td>NaN</td>\n",
       "      <td>NaN</td>\n",
       "      <td>NaN</td>\n",
       "      <td>Bandung barat</td>\n",
       "      <td>NaN</td>\n",
       "      <td>2020-05-28</td>\n",
       "      <td>23:10:21</td>\n",
       "    </tr>\n",
       "    <tr>\n",
       "      <th>8</th>\n",
       "      <td>1266039107844595712</td>\n",
       "      <td>Thu May 28 16:10:19 +0000 2020</td>\n",
       "      <td>&lt;a href=\"http://twitter.com/download/android\" ...</td>\n",
       "      <td>@DrSukamta @FPKSDPRRI Bkn tidak mampu \\r\\nTp s...</td>\n",
       "      <td>bukan tidak sptinya tekanan dr pengusaha nya s...</td>\n",
       "      <td>in</td>\n",
       "      <td>0</td>\n",
       "      <td>0</td>\n",
       "      <td>SusiloI</td>\n",
       "      <td>NaN</td>\n",
       "      <td>NaN</td>\n",
       "      <td>DrSukamta, FPKSDPRRI</td>\n",
       "      <td>Jakarta</td>\n",
       "      <td>NaN</td>\n",
       "      <td>2020-05-28</td>\n",
       "      <td>23:10:19</td>\n",
       "    </tr>\n",
       "    <tr>\n",
       "      <th>9</th>\n",
       "      <td>1266039100110323714</td>\n",
       "      <td>Thu May 28 16:10:17 +0000 2020</td>\n",
       "      <td>&lt;a href=\"http://twitter.com/download/android\" ...</td>\n",
       "      <td>RT @detikcom: Menjelang era new normal pada 1 ...</td>\n",
       "      <td>menjelang era new normal jawa barat jabar terb...</td>\n",
       "      <td>in</td>\n",
       "      <td>0</td>\n",
       "      <td>58</td>\n",
       "      <td>Farhankemal</td>\n",
       "      <td>NaN</td>\n",
       "      <td>NaN</td>\n",
       "      <td>detikcom</td>\n",
       "      <td>NaN</td>\n",
       "      <td>NaN</td>\n",
       "      <td>2020-05-28</td>\n",
       "      <td>23:10:17</td>\n",
       "    </tr>\n",
       "  </tbody>\n",
       "</table>\n",
       "</div>"
      ],
      "text/plain": [
       "                    id                      created_at  \\\n",
       "0  1266039172315230209  Thu May 28 16:10:35 +0000 2020   \n",
       "1  1266039166350983169  Thu May 28 16:10:33 +0000 2020   \n",
       "2  1266039153487044608  Thu May 28 16:10:30 +0000 2020   \n",
       "3  1266039147149422592  Thu May 28 16:10:29 +0000 2020   \n",
       "4  1266039127834636291  Thu May 28 16:10:24 +0000 2020   \n",
       "5  1266039123531280384  Thu May 28 16:10:23 +0000 2020   \n",
       "6  1266039120595304450  Thu May 28 16:10:22 +0000 2020   \n",
       "7  1266039113712427010  Thu May 28 16:10:21 +0000 2020   \n",
       "8  1266039107844595712  Thu May 28 16:10:19 +0000 2020   \n",
       "9  1266039100110323714  Thu May 28 16:10:17 +0000 2020   \n",
       "\n",
       "                                              source  \\\n",
       "0  <a href=\"http://twitter.com/download/android\" ...   \n",
       "1  <a href=\"http://twitter.com/download/android\" ...   \n",
       "2  <a href=\"http://twitter.com/download/android\" ...   \n",
       "3  <a href=\"https://mobile.twitter.com\" rel=\"nofo...   \n",
       "4  <a href=\"http://twitter.com/download/android\" ...   \n",
       "5  <a href=\"http://twitter.com/download/android\" ...   \n",
       "6  <a href=\"http://twitter.com/download/android\" ...   \n",
       "7  <a href=\"http://twitter.com/download/android\" ...   \n",
       "8  <a href=\"http://twitter.com/download/android\" ...   \n",
       "9  <a href=\"http://twitter.com/download/android\" ...   \n",
       "\n",
       "                                       original_text  \\\n",
       "0  RT @ridwankamil: Minggu ini 60% Kota/Kab Jabar...   \n",
       "1  RT @kompascom: Pembukaan mal tidak berarti aka...   \n",
       "2  Pemerintah tentunya sudah melakukan kajian/per...   \n",
       "3  RT @Covid19Update24: Indonesia #COVID19 growth...   \n",
       "4  @iksansaptari Hahaha\\r\\nKokojo\\r\\nAing arek no...   \n",
       "5  @Asknonym Itu lucu kok. Tapi pertanyaan gue pa...   \n",
       "6  RT @Bandungfess: Euy diperpanjang ceunah psbb ...   \n",
       "7  Orang yg masih ga menerapkan social distancing...   \n",
       "8  @DrSukamta @FPKSDPRRI Bkn tidak mampu \\r\\nTp s...   \n",
       "9  RT @detikcom: Menjelang era new normal pada 1 ...   \n",
       "\n",
       "                                          clean_text lang  favorite_count  \\\n",
       "0  kota kabupaten jabar zona biru level zona kuni...   in               0   \n",
       "1  pembukaan mal tidak berdampak masyarakat kecil...   in               0   \n",
       "2  pemerintah melakukan kajian pertimbangan matan...   in               0   \n",
       "3  indonesia growth rate is fastest in asean regi...   en               0   \n",
       "4  hahaha kokojo arek nonton hindia poe samemeh p...   in               0   \n",
       "5     lucu pas bilang jalan jalan deh ga psbb daerah   in               0   \n",
       "6                    euy diperpanjang ceunah psbb na   in               0   \n",
       "7  ga menerapkan social distancing psbb pikiranny...   in               0   \n",
       "8  bukan tidak sptinya tekanan dr pengusaha nya s...   in               0   \n",
       "9  menjelang era new normal jawa barat jabar terb...   in               0   \n",
       "\n",
       "   retweet_count  original_author possibly_sensitive hashtags  \\\n",
       "0            342          cmdblck                NaN      NaN   \n",
       "1             12  Gulagulalibosku                NaN      NaN   \n",
       "2              0         HmfaqihA                NaN      NaN   \n",
       "3            111         Summa_CL                NaN  COVID19   \n",
       "4              0    Prayogaaaaaaa                NaN      NaN   \n",
       "5              0     apotatohuman                NaN      NaN   \n",
       "6             72    Ririnrindiynt              False      NaN   \n",
       "7              0  DelimaOctaviani                NaN      NaN   \n",
       "8              0          SusiloI                NaN      NaN   \n",
       "9             58      Farhankemal                NaN      NaN   \n",
       "\n",
       "          user_mentions                place  \\\n",
       "0           ridwankamil                  NaN   \n",
       "1             kompascom  Bandung, Jawa Barat   \n",
       "2                   NaN                  NaN   \n",
       "3       Covid19Update24     Road to Success🌟   \n",
       "4          iksansaptari    Ciamis, Indonesia   \n",
       "5              Asknonym            Indonesia   \n",
       "6           Bandungfess                  NaN   \n",
       "7                   NaN        Bandung barat   \n",
       "8  DrSukamta, FPKSDPRRI              Jakarta   \n",
       "9              detikcom                  NaN   \n",
       "\n",
       "                              place_coord_boundaries date_created time_created  \n",
       "0                                                NaN   2020-05-28     23:10:35  \n",
       "1                                                NaN   2020-05-28     23:10:33  \n",
       "2                                                NaN   2020-05-28     23:10:30  \n",
       "3                                                NaN   2020-05-28     23:10:29  \n",
       "4  [[108.391549, -7.363503], [108.494179, -7.3635...   2020-05-28     23:10:24  \n",
       "5                                                NaN   2020-05-28     23:10:23  \n",
       "6                                                NaN   2020-05-28     23:10:22  \n",
       "7                                                NaN   2020-05-28     23:10:21  \n",
       "8                                                NaN   2020-05-28     23:10:19  \n",
       "9                                                NaN   2020-05-28     23:10:17  "
      ]
     },
     "execution_count": 3,
     "metadata": {},
     "output_type": "execute_result"
    }
   ],
   "source": [
    "df.head(10)"
   ]
  },
  {
   "cell_type": "code",
   "execution_count": 4,
   "metadata": {},
   "outputs": [
    {
     "data": {
      "text/plain": [
       "7967"
      ]
     },
     "execution_count": 4,
     "metadata": {},
     "output_type": "execute_result"
    }
   ],
   "source": [
    "len(df)"
   ]
  },
  {
   "cell_type": "markdown",
   "metadata": {},
   "source": [
    "Removing Duplicate if any"
   ]
  },
  {
   "cell_type": "code",
   "execution_count": 5,
   "metadata": {},
   "outputs": [],
   "source": [
    "df = df.drop_duplicates()\n",
    "df = df.reset_index(drop=True)"
   ]
  },
  {
   "cell_type": "code",
   "execution_count": 6,
   "metadata": {},
   "outputs": [
    {
     "data": {
      "text/plain": [
       "7967"
      ]
     },
     "execution_count": 6,
     "metadata": {},
     "output_type": "execute_result"
    }
   ],
   "source": [
    "len(df)"
   ]
  },
  {
   "cell_type": "markdown",
   "metadata": {},
   "source": [
    "# Extra Cleaning"
   ]
  },
  {
   "cell_type": "code",
   "execution_count": 7,
   "metadata": {},
   "outputs": [
    {
     "data": {
      "text/plain": [
       "65"
      ]
     },
     "execution_count": 7,
     "metadata": {},
     "output_type": "execute_result"
    }
   ],
   "source": [
    "len(df[df['clean_text'].isnull()==True])"
   ]
  },
  {
   "cell_type": "code",
   "execution_count": 8,
   "metadata": {},
   "outputs": [
    {
     "data": {
      "text/plain": [
       "643                                                                                                                                                                      https://t.co/ROCt57TV1S\\r\\n#PSBBsurabaya #PSBB #PSBBJakarta #PSBBMalangRaya #psbbbelumdilonggarkan #psbbkedodoran #surabaya\n",
       "1268                                                           #BersiapMenujuNewNormal #mgmotor #mgmotors #motor #Morris #Garage #ZS #SUV #EXCITE #IGNITE #PSBB #Jakarta #siang #dirumahaja #TerserahIndonesia #indonesiaterserah #euroncap #dealer #MGRedefinedExpectation… https://t.co/rNdyro8ur7\n",
       "1285                                                           #BersiapMenujuNewNormal #mgmotor #mgmotors #motor #Morris #Garage #ZS #SUV #EXCITE #IGNITE #PSBB #Jakarta #siang #dirumahaja #TerserahIndonesia #indonesiaterserah #euroncap #dealer #MGRedefinedExpectation… https://t.co/oKFE829Zml\n",
       "1317                                                           #BersiapMenujuNewNormal #mgmotor #mgmotors #motor #Morris #Garage #ZS #SUV #EXCITE #IGNITE #PSBB #Jakarta #siang #dirumahaja #TerserahIndonesia #indonesiaterserah #euroncap #dealer #MGRedefinedExpectation… https://t.co/4zoO6ltaCW\n",
       "1323                                                           #BersiapMenujuNewNormal #mgmotor #mgmotors #motor #Morris #Garage #ZS #SUV #EXCITE #IGNITE #PSBB #Jakarta #siang #dirumahaja #TerserahIndonesia #indonesiaterserah #euroncap #dealer #MGRedefinedExpectation… https://t.co/MV1omouVDG\n",
       "                                                                                                                                                    ...                                                                                                                                             \n",
       "7254                                                                                                                                                     RT @dw_urdu: سکیورٹی منسٹر نے کہا، ’’کورونا وائرس آپ کی بیوی جیسا ہے۔ شروع میں آپ نے اسے کنٹرول کرنے کی کوشش کی۔ پھر آپ کو احساس ہوا کہ آپ…\n",
       "7269                                                                                                                                                     RT @dw_urdu: سکیورٹی منسٹر نے کہا، ’’کورونا وائرس آپ کی بیوی جیسا ہے۔ شروع میں آپ نے اسے کنٹرول کرنے کی کوشش کی۔ پھر آپ کو احساس ہوا کہ آپ…\n",
       "7338    سکیورٹی منسٹر نے کہا، ’’کورونا وائرس آپ کی بیوی جیسا ہے۔ شروع میں آپ نے اسے کنٹرول کرنے کی کوشش کی۔ پھر آپ کو احساس ہوا کہ آپ ایسا نہیں کر سکتے۔ پھر آپ اس کے ساتھ رہنا سیکھ جاتے ہیں۔‘‘\\r\\n\\r\\nhttps://t.co/7CRkI8O3tL\\r\\n#CoronavirusPandemic #COVID19 '#CoronaVirusIsLikeWife' #Indonesia\n",
       "7563                                                                              印度尼西亚首都雅加达封城后，不仅市民生计受影响，连为游客拉马车的马儿也吃不饱，只能靠路边野草和剩菜充饥，瘦成皮包骨。https://t.co/U4sO1oV5uy\\r\\n【2019冠状病毒疫情最新发展 &gt;&gt;https://t.co/5Y6cFnNA1s】\\r\\n#2019nCoV #NovelCoronavirus #coronavirus #COVID19 https://t.co/84O2EUALML\n",
       "7905                                                                                                                                      #كورونا #كوفيد #كوفيد_19 #إندونيسيا #جاكرتا\\r\\n#coronamemes #covid #covi̇d19\\r\\n#alatheer_indonesia #indonesian #jakarta #alatheer https://t.co/HdFSJx1Kis\n",
       "Name: original_text, Length: 65, dtype: object"
      ]
     },
     "execution_count": 8,
     "metadata": {},
     "output_type": "execute_result"
    }
   ],
   "source": [
    "pd.set_option('display.max_colwidth', None)\n",
    "df[df['clean_text'].isnull()==True]['original_text']"
   ]
  },
  {
   "cell_type": "markdown",
   "metadata": {},
   "source": [
    "Removing Observation that the text become empty after cleaning, indicating that the text doesn't have significance sentiment"
   ]
  },
  {
   "cell_type": "code",
   "execution_count": 9,
   "metadata": {},
   "outputs": [],
   "source": [
    "df = df.dropna(subset=['clean_text'])\n",
    "df = df.reset_index(drop=True)"
   ]
  },
  {
   "cell_type": "code",
   "execution_count": 10,
   "metadata": {},
   "outputs": [
    {
     "data": {
      "text/plain": [
       "id                           0\n",
       "created_at                   0\n",
       "source                       0\n",
       "original_text                0\n",
       "clean_text                   0\n",
       "lang                         0\n",
       "favorite_count               0\n",
       "retweet_count                0\n",
       "original_author              0\n",
       "possibly_sensitive        5558\n",
       "hashtags                  6702\n",
       "user_mentions             1807\n",
       "place                     2624\n",
       "place_coord_boundaries    7782\n",
       "date_created                 0\n",
       "time_created                 0\n",
       "dtype: int64"
      ]
     },
     "execution_count": 10,
     "metadata": {},
     "output_type": "execute_result"
    }
   ],
   "source": [
    "df.isnull().sum()"
   ]
  },
  {
   "cell_type": "code",
   "execution_count": 11,
   "metadata": {},
   "outputs": [
    {
     "data": {
      "text/plain": [
       "en     429\n",
       "tl      17\n",
       "fr       5\n",
       "ca       4\n",
       "ko       3\n",
       "pt       3\n",
       "und      2\n",
       "fi       1\n",
       "da       1\n",
       "zh       1\n",
       "ja       1\n",
       "es       1\n",
       "Name: lang, dtype: int64"
      ]
     },
     "execution_count": 11,
     "metadata": {},
     "output_type": "execute_result"
    }
   ],
   "source": [
    "df[df['lang']!='in']['lang'].value_counts()"
   ]
  },
  {
   "cell_type": "markdown",
   "metadata": {},
   "source": [
    "As there are some word not in Indonesian, possibly indonesian people using other language to tweet, those text will be translated in order to process the text"
   ]
  },
  {
   "cell_type": "code",
   "execution_count": 12,
   "metadata": {},
   "outputs": [],
   "source": [
    "def trans(x,src):\n",
    "    translator = Translator()\n",
    "    try:\n",
    "        sentence = translator.translate(x, src=src,dest='id').text\n",
    "    except:\n",
    "        sentence = x\n",
    "    return sentence"
   ]
  },
  {
   "cell_type": "code",
   "execution_count": 13,
   "metadata": {},
   "outputs": [],
   "source": [
    "df['clean_text'] = df.apply(lambda x: trans(x['clean_text'],x['lang']) if(x['lang']!='in') else x['clean_text'],axis=1)"
   ]
  },
  {
   "cell_type": "code",
   "execution_count": 14,
   "metadata": {},
   "outputs": [],
   "source": [
    "clean_text = df['clean_text'].copy()"
   ]
  },
  {
   "cell_type": "code",
   "execution_count": 15,
   "metadata": {},
   "outputs": [
    {
     "data": {
      "text/plain": [
       "7887                                                                                                gk psbb\n",
       "7888                                                                    sby psbb ae marai tidak mudik mudik\n",
       "7889                                                     update situasi terkini perkembangan indonesia utas\n",
       "7890                                                                                               psbb day\n",
       "7891    pelaku usaha mengapresiasi paket stimulus diberikan pemerintah dalam merespons pandemi covid keb...\n",
       "7892                                                                      malang koyok ngono ae psbb mandeg\n",
       "7893                                                       coba check point kacuk tidak diperiksa awal psbb\n",
       "7894                                                     update situasi terkini perkembangan indonesia utas\n",
       "7895    giat psbb cek point joglo teguran tertulis pengendara tidak tertib amp melanggar psbb sat lantas...\n",
       "7896                                                        divisi kesehatan mengucapkan patuhi psbb korlap\n",
       "7897             target indonesia mewujudkan kesetaraan gender mungkin angan angan komponen dalam negara ti\n",
       "7898                                                                                                   psbb\n",
       "7899                       gugus tugas surabaya wuhan beredar materi presentasi dinas pendidikan provinsi j\n",
       "7900                                                                      gara psbb kasur gampang rusak deh\n",
       "7901                                                                        psbb perwedangan sekala besaran\n",
       "Name: clean_text, dtype: object"
      ]
     },
     "execution_count": 15,
     "metadata": {},
     "output_type": "execute_result"
    }
   ],
   "source": [
    "pd.set_option('display.max_colwidth', 100)\n",
    "clean_text.tail(15)"
   ]
  },
  {
   "cell_type": "code",
   "execution_count": 16,
   "metadata": {},
   "outputs": [],
   "source": [
    "def repair_exaggeration(x):\n",
    "    word_tokens = word_tokenize(x)\n",
    "    new_x =''\n",
    "    for i in word_tokens:\n",
    "        if (i =='psbb'):\n",
    "            new = re.sub(r'(\\w)\\1\\1+',r'\\1\\1',i)\n",
    "            new_x = new_x +new+' '\n",
    "        elif(i =='psb'):\n",
    "            new = 'psbb'\n",
    "            new_x = new_x +new+' '\n",
    "        else:\n",
    "            new = re.sub(r'(\\w)\\1\\1\\1+',r'\\1',i)\n",
    "            new_x = new_x +new+' '\n",
    "    return new_x\n",
    "\n",
    "def del_word(x,key_list):\n",
    "    n = len(key_list)\n",
    "    word_tokens = word_tokenize(x)\n",
    "    new_x =''\n",
    "    for word in word_tokens:\n",
    "        if word not in key_list:\n",
    "            new_x = new_x+word+' '\n",
    "    return new_x\n",
    "\n",
    "def clean_tweets(tweet):\n",
    "   # nltk.download('stopwords')\n",
    "    my_file = open(\"cleaning_source/combined_stop_words.txt\", \"r\")\n",
    "    content = my_file.read()\n",
    "    stop_words = content.split(\"\\n\")\n",
    "    file_2  = open(\"cleaning_source/update_combined_slang_words.txt\", \"r\")\n",
    "    content2 = file_2.read()\n",
    "    slang_words = ast.literal_eval(content2)\n",
    "    my_file.close()\n",
    "    file_2.close()\n",
    "\n",
    "    tweet = tweet.lower()\n",
    "    #after tweepy preprocessing the colon left remain after removing mentions\n",
    "    #or RT sign in the beginning of the tweet\n",
    "    tweet = re.sub(r':', '', tweet)\n",
    "    tweet = re.sub(r'‚Ä¶', '', tweet)\n",
    "    #replace consecutive non-ASCII characters with a space\n",
    "    tweet = re.sub(r'[^\\x00-\\x7F]+',' ', tweet)\n",
    "\n",
    "    #remove emojis from tweet\n",
    "    #tweet = emoji_pattern.sub(r'', tweet)\n",
    "    \n",
    "    #remove punctuation manually\n",
    "    tweet = re.sub('[^a-zA-Z]', ' ', tweet)\n",
    "    \n",
    "    #remove tags\n",
    "    tweet=re.sub(\"&lt;/?.*?&gt;\",\"&lt;&gt;\",tweet)\n",
    "    \n",
    "    #remove digits and special chars\n",
    "    tweet=re.sub(\"(\\\\d|\\\\W)+\",\" \",tweet)\n",
    "\n",
    "    #remove other symbol from tweet\n",
    "    tweet = re.sub(r'â', '', tweet)\n",
    "    tweet = re.sub(r'€', '', tweet)\n",
    "    tweet = re.sub(r'¦', '', tweet)\n",
    "\n",
    "    word_tokens = word_tokenize(tweet)\n",
    "    for w in word_tokens:\n",
    "        if w in slang_words.keys():\n",
    "            word_tokens[word_tokens.index(w)] = slang_words[w]\n",
    "\n",
    "    #filter using NLTK library append it to a string\n",
    "    filtered_tweet = [w for w in word_tokens if not w in stop_words]\n",
    "    filtered_tweet = []\n",
    "\n",
    "    #looping through conditions\n",
    "    for w in word_tokens:\n",
    "        #check tokens against stop words , emoticons and punctuations\n",
    "        if w not in stop_words and w not in string.punctuation:\n",
    "            filtered_tweet.append(w.lower())\n",
    "    return ' '.join(filtered_tweet)\n",
    "\n",
    "def count_words(x):\n",
    "    words = word_tokenize(x)\n",
    "    n=len(words)\n",
    "    return n"
   ]
  },
  {
   "cell_type": "markdown",
   "metadata": {},
   "source": [
    "Cleaning text that exaggerate the typing such as 'psbbbbbbbbb' "
   ]
  },
  {
   "cell_type": "code",
   "execution_count": 17,
   "metadata": {},
   "outputs": [],
   "source": [
    "clean_text_exag = clean_text.apply(lambda x: repair_exaggeration(x))"
   ]
  },
  {
   "cell_type": "code",
   "execution_count": 18,
   "metadata": {},
   "outputs": [
    {
     "data": {
      "text/plain": [
       "7887                                                                                               gk psbb \n",
       "7888                                                                   sby psbb ae marai tidak mudik mudik \n",
       "7889                                                    update situasi terkini perkembangan indonesia utas \n",
       "7890                                                                                              psbb day \n",
       "7891    pelaku usaha mengapresiasi paket stimulus diberikan pemerintah dalam merespons pandemi covid keb...\n",
       "7892                                                                     malang koyok ngono ae psbb mandeg \n",
       "7893                                                      coba check point kacuk tidak diperiksa awal psbb \n",
       "7894                                                    update situasi terkini perkembangan indonesia utas \n",
       "7895    giat psbb cek point joglo teguran tertulis pengendara tidak tertib amp melanggar psbb sat lantas...\n",
       "7896                                                       divisi kesehatan mengucapkan patuhi psbb korlap \n",
       "7897            target indonesia mewujudkan kesetaraan gender mungkin angan angan komponen dalam negara ti \n",
       "7898                                                                                                  psbb \n",
       "7899                      gugus tugas surabaya wuhan beredar materi presentasi dinas pendidikan provinsi j \n",
       "7900                                                                     gara psbb kasur gampang rusak deh \n",
       "7901                                                                       psbb perwedangan sekala besaran \n",
       "Name: clean_text, dtype: object"
      ]
     },
     "execution_count": 18,
     "metadata": {},
     "output_type": "execute_result"
    }
   ],
   "source": [
    "clean_text_exag.tail(15)"
   ]
  },
  {
   "cell_type": "markdown",
   "metadata": {},
   "source": [
    "Recleaning after remove exaggeration"
   ]
  },
  {
   "cell_type": "code",
   "execution_count": 19,
   "metadata": {},
   "outputs": [],
   "source": [
    "re_clean = clean_text_exag.apply(lambda x: clean_tweets(x))"
   ]
  },
  {
   "cell_type": "markdown",
   "metadata": {},
   "source": [
    "we use keywords for querying data, now we need to remove them as it will all found in every sentence in this data frame"
   ]
  },
  {
   "cell_type": "code",
   "execution_count": 20,
   "metadata": {},
   "outputs": [],
   "source": [
    "keyword = ['psbb','psb','corona','covid19','indonesia','pemerintah','wfh','covid']\n",
    "clean_text_extra = re_clean.apply(lambda x: del_word(x,keyword))"
   ]
  },
  {
   "cell_type": "code",
   "execution_count": 21,
   "metadata": {},
   "outputs": [
    {
     "data": {
      "text/plain": [
       "7887                                                                                                    gk \n",
       "7888                                                                        sby ae marai tidak mudik mudik \n",
       "7889                                                              update situasi terkini perkembangan utas \n",
       "7890                                                                                                   day \n",
       "7891    pelaku usaha mengapresiasi paket stimulus diberikan dalam merespons pandemi kebijakan perlu diti...\n",
       "7892                                                                          malang koyok ngono ae mandeg \n",
       "7893                                                           coba check point kacuk tidak diperiksa awal \n",
       "7894                                                              update situasi terkini perkembangan utas \n",
       "7895    giat cek point joglo teguran tertulis pengendara tidak tertib amp melanggar sat lantas jakbar tn...\n",
       "7896                                                            divisi kesehatan mengucapkan patuhi korlap \n",
       "7897                      target mewujudkan kesetaraan gender mungkin angan angan komponen dalam negara ti \n",
       "7898                                                                                                       \n",
       "7899                      gugus tugas surabaya wuhan beredar materi presentasi dinas pendidikan provinsi j \n",
       "7900                                                                          gara kasur gampang rusak deh \n",
       "7901                                                                            perwedangan sekala besaran \n",
       "Name: clean_text, dtype: object"
      ]
     },
     "execution_count": 21,
     "metadata": {},
     "output_type": "execute_result"
    }
   ],
   "source": [
    "clean_text_extra.tail(15)"
   ]
  },
  {
   "cell_type": "code",
   "execution_count": 22,
   "metadata": {},
   "outputs": [],
   "source": [
    "df['clean_text'] = clean_text_extra"
   ]
  },
  {
   "cell_type": "code",
   "execution_count": 23,
   "metadata": {},
   "outputs": [],
   "source": [
    "df['word_length'] = df['clean_text'].apply(lambda x:count_words(x))"
   ]
  },
  {
   "cell_type": "code",
   "execution_count": 24,
   "metadata": {},
   "outputs": [
    {
     "data": {
      "text/plain": [
       "0      80\n",
       "1     239\n",
       "2     842\n",
       "3     326\n",
       "4     361\n",
       "5     522\n",
       "6     340\n",
       "7     681\n",
       "8     375\n",
       "9     392\n",
       "10    480\n",
       "11    971\n",
       "12    422\n",
       "13    469\n",
       "14    183\n",
       "15    167\n",
       "16    217\n",
       "17    209\n",
       "18    122\n",
       "19     72\n",
       "20     92\n",
       "21     82\n",
       "22     44\n",
       "23     43\n",
       "24     43\n",
       "25     27\n",
       "26     16\n",
       "27     14\n",
       "28     15\n",
       "29     10\n",
       "30     10\n",
       "31      7\n",
       "32      2\n",
       "33      5\n",
       "34      4\n",
       "35      7\n",
       "36      1\n",
       "37      3\n",
       "38      2\n",
       "40      1\n",
       "44      1\n",
       "45      1\n",
       "46      1\n",
       "48      1\n",
       "Name: word_length, dtype: int64"
      ]
     },
     "execution_count": 24,
     "metadata": {},
     "output_type": "execute_result"
    }
   ],
   "source": [
    "df['word_length'].value_counts().sort_index()"
   ]
  },
  {
   "cell_type": "code",
   "execution_count": 25,
   "metadata": {},
   "outputs": [],
   "source": [
    "df = df.drop(df[df['word_length']==0].index,axis=0)\n",
    "df = df.reset_index(drop=True)"
   ]
  },
  {
   "cell_type": "markdown",
   "metadata": {},
   "source": [
    "# Word Processing"
   ]
  },
  {
   "cell_type": "markdown",
   "metadata": {},
   "source": [
    "## Create word dictionary"
   ]
  },
  {
   "cell_type": "code",
   "execution_count": 26,
   "metadata": {},
   "outputs": [],
   "source": [
    "word_dict = {}\n",
    "for i in range(0,len(df['clean_text'])):\n",
    "    sentence = df['clean_text'][i]\n",
    "    word_token = word_tokenize(sentence)\n",
    "    for j in word_token:\n",
    "        if j not in word_dict:\n",
    "            word_dict[j] = 1\n",
    "        else:\n",
    "            word_dict[j] += 1"
   ]
  },
  {
   "cell_type": "code",
   "execution_count": 27,
   "metadata": {},
   "outputs": [
    {
     "data": {
      "text/plain": [
       "9257"
      ]
     },
     "execution_count": 27,
     "metadata": {},
     "output_type": "execute_result"
    }
   ],
   "source": [
    "len(word_dict)"
   ]
  },
  {
   "cell_type": "code",
   "execution_count": 28,
   "metadata": {},
   "outputs": [
    {
     "data": {
      "text/plain": [
       "7067"
      ]
     },
     "execution_count": 28,
     "metadata": {},
     "output_type": "execute_result"
    }
   ],
   "source": [
    "len({k:v for (k,v) in word_dict.items() if v < 4})"
   ]
  },
  {
   "cell_type": "markdown",
   "metadata": {},
   "source": [
    "## Import Lexicon data"
   ]
  },
  {
   "cell_type": "markdown",
   "metadata": {},
   "source": [
    "import lexicon, and remove negation words from lexicon, the lexicon is a combination from several sources below, that combined together, and include swear words which has the most negative score"
   ]
  },
  {
   "cell_type": "markdown",
   "metadata": {},
   "source": [
    "sources : <br>\n",
    "https://github.com/louisowen6/NLP_bahasa_resources <br>\n",
    "https://github.com/abhimantramb/elang/blob/master/word2vec/utils/swear-words.txt <br>\n",
    "https://github.com/fajri91/InSet <br>\n",
    "https://github.com/agusmakmun/SentiStrengthID/blob/master/id_dict/sentimentword.txt "
   ]
  },
  {
   "cell_type": "code",
   "execution_count": 29,
   "metadata": {},
   "outputs": [],
   "source": [
    "negasi = ['bukan','tidak','ga','gk']\n",
    "lexicon = pd.read_csv('lexicon/modified_full_lexicon.csv')\n",
    "lexicon = lexicon.drop(lexicon[(lexicon['word'] == 'bukan')\n",
    "                               |(lexicon['word'] == 'tidak')\n",
    "                               |(lexicon['word'] == 'ga')|(lexicon['word'] == 'gk') ].index,axis=0)\n",
    "lexicon = lexicon.reset_index(drop=True)"
   ]
  },
  {
   "cell_type": "code",
   "execution_count": 30,
   "metadata": {},
   "outputs": [
    {
     "data": {
      "text/plain": [
       "10248"
      ]
     },
     "execution_count": 30,
     "metadata": {},
     "output_type": "execute_result"
    }
   ],
   "source": [
    "len(lexicon)"
   ]
  },
  {
   "cell_type": "code",
   "execution_count": 31,
   "metadata": {},
   "outputs": [
    {
     "data": {
      "text/html": [
       "<div>\n",
       "<style scoped>\n",
       "    .dataframe tbody tr th:only-of-type {\n",
       "        vertical-align: middle;\n",
       "    }\n",
       "\n",
       "    .dataframe tbody tr th {\n",
       "        vertical-align: top;\n",
       "    }\n",
       "\n",
       "    .dataframe thead th {\n",
       "        text-align: right;\n",
       "    }\n",
       "</style>\n",
       "<table border=\"1\" class=\"dataframe\">\n",
       "  <thead>\n",
       "    <tr style=\"text-align: right;\">\n",
       "      <th></th>\n",
       "      <th>word</th>\n",
       "      <th>weight</th>\n",
       "      <th>number_of_words</th>\n",
       "    </tr>\n",
       "  </thead>\n",
       "  <tbody>\n",
       "    <tr>\n",
       "      <th>0</th>\n",
       "      <td>hai</td>\n",
       "      <td>3</td>\n",
       "      <td>1</td>\n",
       "    </tr>\n",
       "    <tr>\n",
       "      <th>1</th>\n",
       "      <td>merekam</td>\n",
       "      <td>2</td>\n",
       "      <td>1</td>\n",
       "    </tr>\n",
       "    <tr>\n",
       "      <th>2</th>\n",
       "      <td>ekstensif</td>\n",
       "      <td>3</td>\n",
       "      <td>1</td>\n",
       "    </tr>\n",
       "    <tr>\n",
       "      <th>3</th>\n",
       "      <td>paripurna</td>\n",
       "      <td>1</td>\n",
       "      <td>1</td>\n",
       "    </tr>\n",
       "    <tr>\n",
       "      <th>4</th>\n",
       "      <td>detail</td>\n",
       "      <td>2</td>\n",
       "      <td>1</td>\n",
       "    </tr>\n",
       "    <tr>\n",
       "      <th>5</th>\n",
       "      <td>pernik</td>\n",
       "      <td>3</td>\n",
       "      <td>1</td>\n",
       "    </tr>\n",
       "    <tr>\n",
       "      <th>6</th>\n",
       "      <td>belas</td>\n",
       "      <td>2</td>\n",
       "      <td>1</td>\n",
       "    </tr>\n",
       "    <tr>\n",
       "      <th>7</th>\n",
       "      <td>welas</td>\n",
       "      <td>4</td>\n",
       "      <td>1</td>\n",
       "    </tr>\n",
       "    <tr>\n",
       "      <th>8</th>\n",
       "      <td>kabung</td>\n",
       "      <td>1</td>\n",
       "      <td>1</td>\n",
       "    </tr>\n",
       "    <tr>\n",
       "      <th>9</th>\n",
       "      <td>rahayu</td>\n",
       "      <td>4</td>\n",
       "      <td>1</td>\n",
       "    </tr>\n",
       "  </tbody>\n",
       "</table>\n",
       "</div>"
      ],
      "text/plain": [
       "        word  weight  number_of_words\n",
       "0        hai       3                1\n",
       "1    merekam       2                1\n",
       "2  ekstensif       3                1\n",
       "3  paripurna       1                1\n",
       "4     detail       2                1\n",
       "5     pernik       3                1\n",
       "6      belas       2                1\n",
       "7      welas       4                1\n",
       "8     kabung       1                1\n",
       "9     rahayu       4                1"
      ]
     },
     "execution_count": 31,
     "metadata": {},
     "output_type": "execute_result"
    }
   ],
   "source": [
    "lexicon.head(10)"
   ]
  },
  {
   "cell_type": "code",
   "execution_count": 32,
   "metadata": {},
   "outputs": [],
   "source": [
    "lexicon_word = lexicon['word'].to_list()\n",
    "lexicon_num_words = lexicon['number_of_words']"
   ]
  },
  {
   "cell_type": "code",
   "execution_count": 33,
   "metadata": {},
   "outputs": [
    {
     "data": {
      "text/plain": [
       "10248"
      ]
     },
     "execution_count": 33,
     "metadata": {},
     "output_type": "execute_result"
    }
   ],
   "source": [
    "len(lexicon_word)"
   ]
  },
  {
   "cell_type": "markdown",
   "metadata": {},
   "source": [
    "Checking if there is words in dictionary that does not included in the lexicon"
   ]
  },
  {
   "cell_type": "code",
   "execution_count": 34,
   "metadata": {},
   "outputs": [
    {
     "data": {
      "text/plain": [
       "6498"
      ]
     },
     "execution_count": 34,
     "metadata": {},
     "output_type": "execute_result"
    }
   ],
   "source": [
    "ns_words = []\n",
    "factory = StemmerFactory()\n",
    "stemmer = factory.create_stemmer()\n",
    "for word in word_dict.keys():\n",
    "    if word not in lexicon_word:\n",
    "        kata_dasar = stemmer.stem(word)\n",
    "        if kata_dasar not in lexicon_word:\n",
    "            ns_words.append(word)\n",
    "len(ns_words)"
   ]
  },
  {
   "cell_type": "markdown",
   "metadata": {},
   "source": [
    "Let's take a look what kind of words they are, lets start with some words that have many occurences as this most likely not  a type case"
   ]
  },
  {
   "cell_type": "code",
   "execution_count": 35,
   "metadata": {},
   "outputs": [
    {
     "data": {
      "text/plain": [
       "1317"
      ]
     },
     "execution_count": 35,
     "metadata": {},
     "output_type": "execute_result"
    }
   ],
   "source": [
    "len({k:v for (k,v) in word_dict.items() if ((k in ns_words)&(v>3)) })"
   ]
  },
  {
   "cell_type": "code",
   "execution_count": 36,
   "metadata": {},
   "outputs": [],
   "source": [
    "ns_words_list = {k:v for (k,v) in word_dict.items() if ((k in ns_words)&(v>3))}"
   ]
  },
  {
   "cell_type": "markdown",
   "metadata": {},
   "source": [
    "It turns out that the words that is not included in lexicon, are the one that not have signifance sentiment"
   ]
  },
  {
   "cell_type": "code",
   "execution_count": 37,
   "metadata": {},
   "outputs": [
    {
     "name": "stdout",
     "output_type": "stream",
     "text": [
      "tidak 1942\n",
      "new 1125\n",
      "mall 861\n",
      "barang 773\n",
      "langgar 654\n",
      "jabar 494\n",
      "rakyat 474\n",
      "zona 464\n",
      "level 443\n",
      "kota 424\n",
      "ga 409\n",
      "berjamur 381\n",
      "awam 381\n",
      "jik 380\n",
      "daerah 363\n",
      "in 318\n",
      "kabupaten 296\n",
      "to 294\n",
      "s 287\n",
      "jakarta 272\n"
     ]
    }
   ],
   "source": [
    "sort_orders = sorted(ns_words_list.items(), key=lambda x: x[1], reverse=True)\n",
    "sort_orders=sort_orders[0:20]\n",
    "for i in sort_orders:\n",
    "    print(i[0], i[1])"
   ]
  },
  {
   "cell_type": "code",
   "execution_count": 38,
   "metadata": {},
   "outputs": [],
   "source": [
    "word_to_plot = df['clean_text'].copy()"
   ]
  },
  {
   "cell_type": "code",
   "execution_count": 39,
   "metadata": {},
   "outputs": [],
   "source": [
    "word_to_plot_1 = word_to_plot.apply(lambda x: del_word(x,negasi))"
   ]
  },
  {
   "cell_type": "markdown",
   "metadata": {},
   "source": [
    "creating word cloud to see what kind of words that appear often in the tweets related to the pandemic"
   ]
  },
  {
   "cell_type": "code",
   "execution_count": 40,
   "metadata": {},
   "outputs": [
    {
     "data": {
      "image/png": "[encoded data removed]",
      "text/plain": [
       "<Figure size 576x576 with 1 Axes>"
      ]
     },
     "metadata": {
      "needs_background": "light"
     },
     "output_type": "display_data"
    }
   ],
   "source": [
    "wordcloud = WordCloud(width = 800, height = 800, background_color = 'black', max_words = 1000\n",
    "                      , min_font_size = 20).generate(str(word_to_plot_1))\n",
    "#plot the word cloud\n",
    "fig = plt.figure(figsize = (8,8), facecolor = None)\n",
    "plt.imshow(wordcloud)\n",
    "plt.axis('off')\n",
    "plt.show()"
   ]
  },
  {
   "cell_type": "markdown",
   "metadata": {},
   "source": [
    "## sentiment"
   ]
  },
  {
   "cell_type": "code",
   "execution_count": 41,
   "metadata": {},
   "outputs": [
    {
     "data": {
      "text/plain": [
       "1    9536\n",
       "2     686\n",
       "3      24\n",
       "4       2\n",
       "Name: number_of_words, dtype: int64"
      ]
     },
     "execution_count": 41,
     "metadata": {},
     "output_type": "execute_result"
    }
   ],
   "source": [
    "lexicon['number_of_words'].value_counts()"
   ]
  },
  {
   "cell_type": "code",
   "execution_count": 42,
   "metadata": {},
   "outputs": [
    {
     "data": {
      "text/plain": [
       "False"
      ]
     },
     "execution_count": 42,
     "metadata": {},
     "output_type": "execute_result"
    }
   ],
   "source": [
    "'pekerti' in word_dict"
   ]
  },
  {
   "cell_type": "code",
   "execution_count": 43,
   "metadata": {},
   "outputs": [
    {
     "data": {
      "text/plain": [
       "True"
      ]
     },
     "execution_count": 43,
     "metadata": {},
     "output_type": "execute_result"
    }
   ],
   "source": [
    "'budi baik' in lexicon_word"
   ]
  },
  {
   "cell_type": "markdown",
   "metadata": {},
   "source": [
    "calculating the sentiment of words by mathing them to the lexicon while also creating the bag of words matrix"
   ]
  },
  {
   "cell_type": "code",
   "execution_count": 44,
   "metadata": {},
   "outputs": [],
   "source": [
    "sencol =[]\n",
    "senrow =np.array([])\n",
    "nsen = 0\n",
    "factory = StemmerFactory()\n",
    "stemmer = factory.create_stemmer()\n",
    "sentiment_list = []\n",
    "# function to write the word's sentiment if it is founded\n",
    "def found_word(ind,words,word,sen,sencol,sentiment,add):\n",
    "    # if it is already included in the bag of words matrix, then just increase the value\n",
    "    if word in sencol:\n",
    "        sen[sencol.index(word)] += 1\n",
    "    else:\n",
    "    #if not, than add new word\n",
    "        sencol.append(word)\n",
    "        sen.append(1)\n",
    "        add += 1\n",
    "    #if there is a negation word before it, the sentiment would be the negation of it's sentiment\n",
    "    if (words[ind-1] in negasi):\n",
    "        sentiment += -lexicon['weight'][lexicon_word.index(word)]\n",
    "    else:\n",
    "        sentiment += lexicon['weight'][lexicon_word.index(word)]\n",
    "    \n",
    "    return sen,sencol,sentiment,add\n",
    "            \n",
    "# checking every words, if they are appear in the lexicon, and then calculate their sentiment if they do\n",
    "for i in range(len(df)):\n",
    "    nsen = senrow.shape[0]\n",
    "    words = word_tokenize(df['clean_text'][i])\n",
    "    sentiment = 0 \n",
    "    add = 0\n",
    "    prev = [0 for ii in range(len(words))]\n",
    "    n_words = len(words)\n",
    "    if len(sencol)>0:\n",
    "        sen =[0 for j in range(len(sencol))]\n",
    "    else:\n",
    "        sen =[]\n",
    "    \n",
    "    for word in words:\n",
    "        ind = words.index(word)\n",
    "        # check whether they are included in the lexicon\n",
    "        if word in lexicon_word :\n",
    "            sen,sencol,sentiment,add= found_word(ind,words,word,sen,sencol,sentiment,add)\n",
    "        else:\n",
    "        # if not, then check the root word\n",
    "            kata_dasar = stemmer.stem(word)\n",
    "            if kata_dasar in lexicon_word:\n",
    "                sen,sencol,sentiment,add= found_word(ind,words,kata_dasar,sen,sencol,sentiment,add)\n",
    "        # if still negative, try to match the combination of words with the adjacent words\n",
    "            elif(n_words>1):\n",
    "                if ind-1>-1:\n",
    "                    back_1    = words[ind-1]+' '+word\n",
    "                    if (back_1 in lexicon_word):\n",
    "                        sen,sencol,sentiment,add= found_word(ind,words,back_1,sen,sencol,sentiment,add)\n",
    "                    elif(ind-2>-1):\n",
    "                        back_2    = words[ind-2]+' '+back_1\n",
    "                        if back_2 in lexicon_word:\n",
    "                            sen,sencol,sentiment,add= found_word(ind,words,back_2,sen,sencol,sentiment,add)\n",
    "    # if there is new word founded, then expand the matrix\n",
    "    if add>0:  \n",
    "        if i>0:\n",
    "            if (nsen==0):\n",
    "                senrow = np.zeros([i,add],dtype=int)\n",
    "            elif(i!=nsen):\n",
    "                padding_h = np.zeros([nsen,add],dtype=int)\n",
    "                senrow = np.hstack((senrow,padding_h))\n",
    "                padding_v = np.zeros([(i-nsen),senrow.shape[1]],dtype=int)\n",
    "                senrow = np.vstack((senrow,padding_v))\n",
    "            else:\n",
    "                padding =np.zeros([nsen,add],dtype=int)\n",
    "                senrow = np.hstack((senrow,padding))\n",
    "            senrow = np.vstack((senrow,sen))\n",
    "        if i==0:\n",
    "            senrow = np.array(sen).reshape(1,len(sen))\n",
    "    # if there isn't then just update the old matrix\n",
    "    elif(nsen>0):\n",
    "        senrow = np.vstack((senrow,sen))\n",
    "        \n",
    "    sentiment_list.append(sentiment)"
   ]
  },
  {
   "cell_type": "code",
   "execution_count": 45,
   "metadata": {},
   "outputs": [
    {
     "data": {
      "text/plain": [
       "7822"
      ]
     },
     "execution_count": 45,
     "metadata": {},
     "output_type": "execute_result"
    }
   ],
   "source": [
    "len(sentiment_list)"
   ]
  },
  {
   "cell_type": "code",
   "execution_count": 46,
   "metadata": {},
   "outputs": [
    {
     "name": "stdout",
     "output_type": "stream",
     "text": [
      "7822\n"
     ]
    }
   ],
   "source": [
    "print(senrow.shape[0])"
   ]
  },
  {
   "cell_type": "markdown",
   "metadata": {},
   "source": [
    "constructing the data frame that contain bag of words and the sentiments that have been calculated before"
   ]
  },
  {
   "cell_type": "code",
   "execution_count": 47,
   "metadata": {},
   "outputs": [],
   "source": [
    "sencol.append('sentiment')\n",
    "sentiment_array = np.array(sentiment_list).reshape(senrow.shape[0],1)\n",
    "sentiment_data = np.hstack((senrow,sentiment_array))\n",
    "df_sen = pd.DataFrame(sentiment_data,columns = sencol)"
   ]
  },
  {
   "cell_type": "code",
   "execution_count": 48,
   "metadata": {},
   "outputs": [
    {
     "data": {
      "text/html": [
       "<div>\n",
       "<style scoped>\n",
       "    .dataframe tbody tr th:only-of-type {\n",
       "        vertical-align: middle;\n",
       "    }\n",
       "\n",
       "    .dataframe tbody tr th {\n",
       "        vertical-align: top;\n",
       "    }\n",
       "\n",
       "    .dataframe thead th {\n",
       "        text-align: right;\n",
       "    }\n",
       "</style>\n",
       "<table border=\"1\" class=\"dataframe\">\n",
       "  <thead>\n",
       "    <tr style=\"text-align: right;\">\n",
       "      <th></th>\n",
       "      <th>kuning</th>\n",
       "      <th>buka</th>\n",
       "      <th>dampak</th>\n",
       "      <th>kecil</th>\n",
       "      <th>kajian</th>\n",
       "      <th>terkait</th>\n",
       "      <th>normal</th>\n",
       "      <th>celaka</th>\n",
       "      <th>nyinyir</th>\n",
       "      <th>sakit</th>\n",
       "      <th>...</th>\n",
       "      <th>mangkel</th>\n",
       "      <th>seni</th>\n",
       "      <th>realitas</th>\n",
       "      <th>menjemukan</th>\n",
       "      <th>respons</th>\n",
       "      <th>kacuk</th>\n",
       "      <th>mengucapkan</th>\n",
       "      <th>mewujudkan</th>\n",
       "      <th>tara</th>\n",
       "      <th>sentiment</th>\n",
       "    </tr>\n",
       "  </thead>\n",
       "  <tbody>\n",
       "    <tr>\n",
       "      <th>0</th>\n",
       "      <td>1</td>\n",
       "      <td>0</td>\n",
       "      <td>0</td>\n",
       "      <td>0</td>\n",
       "      <td>0</td>\n",
       "      <td>0</td>\n",
       "      <td>0</td>\n",
       "      <td>0</td>\n",
       "      <td>0</td>\n",
       "      <td>0</td>\n",
       "      <td>...</td>\n",
       "      <td>0</td>\n",
       "      <td>0</td>\n",
       "      <td>0</td>\n",
       "      <td>0</td>\n",
       "      <td>0</td>\n",
       "      <td>0</td>\n",
       "      <td>0</td>\n",
       "      <td>0</td>\n",
       "      <td>0</td>\n",
       "      <td>-4</td>\n",
       "    </tr>\n",
       "    <tr>\n",
       "      <th>1</th>\n",
       "      <td>0</td>\n",
       "      <td>1</td>\n",
       "      <td>1</td>\n",
       "      <td>1</td>\n",
       "      <td>0</td>\n",
       "      <td>0</td>\n",
       "      <td>0</td>\n",
       "      <td>0</td>\n",
       "      <td>0</td>\n",
       "      <td>0</td>\n",
       "      <td>...</td>\n",
       "      <td>0</td>\n",
       "      <td>0</td>\n",
       "      <td>0</td>\n",
       "      <td>0</td>\n",
       "      <td>0</td>\n",
       "      <td>0</td>\n",
       "      <td>0</td>\n",
       "      <td>0</td>\n",
       "      <td>0</td>\n",
       "      <td>3</td>\n",
       "    </tr>\n",
       "    <tr>\n",
       "      <th>2</th>\n",
       "      <td>0</td>\n",
       "      <td>0</td>\n",
       "      <td>0</td>\n",
       "      <td>0</td>\n",
       "      <td>1</td>\n",
       "      <td>1</td>\n",
       "      <td>2</td>\n",
       "      <td>1</td>\n",
       "      <td>1</td>\n",
       "      <td>1</td>\n",
       "      <td>...</td>\n",
       "      <td>0</td>\n",
       "      <td>0</td>\n",
       "      <td>0</td>\n",
       "      <td>0</td>\n",
       "      <td>0</td>\n",
       "      <td>0</td>\n",
       "      <td>0</td>\n",
       "      <td>0</td>\n",
       "      <td>0</td>\n",
       "      <td>1</td>\n",
       "    </tr>\n",
       "    <tr>\n",
       "      <th>3</th>\n",
       "      <td>0</td>\n",
       "      <td>0</td>\n",
       "      <td>0</td>\n",
       "      <td>0</td>\n",
       "      <td>0</td>\n",
       "      <td>0</td>\n",
       "      <td>0</td>\n",
       "      <td>0</td>\n",
       "      <td>0</td>\n",
       "      <td>0</td>\n",
       "      <td>...</td>\n",
       "      <td>0</td>\n",
       "      <td>0</td>\n",
       "      <td>0</td>\n",
       "      <td>0</td>\n",
       "      <td>0</td>\n",
       "      <td>0</td>\n",
       "      <td>0</td>\n",
       "      <td>0</td>\n",
       "      <td>0</td>\n",
       "      <td>-2</td>\n",
       "    </tr>\n",
       "    <tr>\n",
       "      <th>4</th>\n",
       "      <td>0</td>\n",
       "      <td>0</td>\n",
       "      <td>0</td>\n",
       "      <td>0</td>\n",
       "      <td>0</td>\n",
       "      <td>0</td>\n",
       "      <td>0</td>\n",
       "      <td>0</td>\n",
       "      <td>0</td>\n",
       "      <td>0</td>\n",
       "      <td>...</td>\n",
       "      <td>0</td>\n",
       "      <td>0</td>\n",
       "      <td>0</td>\n",
       "      <td>0</td>\n",
       "      <td>0</td>\n",
       "      <td>0</td>\n",
       "      <td>0</td>\n",
       "      <td>0</td>\n",
       "      <td>0</td>\n",
       "      <td>-2</td>\n",
       "    </tr>\n",
       "    <tr>\n",
       "      <th>5</th>\n",
       "      <td>0</td>\n",
       "      <td>0</td>\n",
       "      <td>0</td>\n",
       "      <td>0</td>\n",
       "      <td>0</td>\n",
       "      <td>0</td>\n",
       "      <td>0</td>\n",
       "      <td>0</td>\n",
       "      <td>0</td>\n",
       "      <td>0</td>\n",
       "      <td>...</td>\n",
       "      <td>0</td>\n",
       "      <td>0</td>\n",
       "      <td>0</td>\n",
       "      <td>0</td>\n",
       "      <td>0</td>\n",
       "      <td>0</td>\n",
       "      <td>0</td>\n",
       "      <td>0</td>\n",
       "      <td>0</td>\n",
       "      <td>6</td>\n",
       "    </tr>\n",
       "    <tr>\n",
       "      <th>6</th>\n",
       "      <td>0</td>\n",
       "      <td>0</td>\n",
       "      <td>0</td>\n",
       "      <td>0</td>\n",
       "      <td>0</td>\n",
       "      <td>0</td>\n",
       "      <td>0</td>\n",
       "      <td>0</td>\n",
       "      <td>0</td>\n",
       "      <td>0</td>\n",
       "      <td>...</td>\n",
       "      <td>0</td>\n",
       "      <td>0</td>\n",
       "      <td>0</td>\n",
       "      <td>0</td>\n",
       "      <td>0</td>\n",
       "      <td>0</td>\n",
       "      <td>0</td>\n",
       "      <td>0</td>\n",
       "      <td>0</td>\n",
       "      <td>2</td>\n",
       "    </tr>\n",
       "    <tr>\n",
       "      <th>7</th>\n",
       "      <td>0</td>\n",
       "      <td>0</td>\n",
       "      <td>0</td>\n",
       "      <td>0</td>\n",
       "      <td>0</td>\n",
       "      <td>0</td>\n",
       "      <td>0</td>\n",
       "      <td>0</td>\n",
       "      <td>0</td>\n",
       "      <td>0</td>\n",
       "      <td>...</td>\n",
       "      <td>0</td>\n",
       "      <td>0</td>\n",
       "      <td>0</td>\n",
       "      <td>0</td>\n",
       "      <td>0</td>\n",
       "      <td>0</td>\n",
       "      <td>0</td>\n",
       "      <td>0</td>\n",
       "      <td>0</td>\n",
       "      <td>8</td>\n",
       "    </tr>\n",
       "    <tr>\n",
       "      <th>8</th>\n",
       "      <td>0</td>\n",
       "      <td>1</td>\n",
       "      <td>0</td>\n",
       "      <td>0</td>\n",
       "      <td>0</td>\n",
       "      <td>0</td>\n",
       "      <td>0</td>\n",
       "      <td>0</td>\n",
       "      <td>0</td>\n",
       "      <td>0</td>\n",
       "      <td>...</td>\n",
       "      <td>0</td>\n",
       "      <td>0</td>\n",
       "      <td>0</td>\n",
       "      <td>0</td>\n",
       "      <td>0</td>\n",
       "      <td>0</td>\n",
       "      <td>0</td>\n",
       "      <td>0</td>\n",
       "      <td>0</td>\n",
       "      <td>2</td>\n",
       "    </tr>\n",
       "    <tr>\n",
       "      <th>9</th>\n",
       "      <td>0</td>\n",
       "      <td>0</td>\n",
       "      <td>0</td>\n",
       "      <td>0</td>\n",
       "      <td>0</td>\n",
       "      <td>0</td>\n",
       "      <td>1</td>\n",
       "      <td>0</td>\n",
       "      <td>0</td>\n",
       "      <td>0</td>\n",
       "      <td>...</td>\n",
       "      <td>0</td>\n",
       "      <td>0</td>\n",
       "      <td>0</td>\n",
       "      <td>0</td>\n",
       "      <td>0</td>\n",
       "      <td>0</td>\n",
       "      <td>0</td>\n",
       "      <td>0</td>\n",
       "      <td>0</td>\n",
       "      <td>11</td>\n",
       "    </tr>\n",
       "  </tbody>\n",
       "</table>\n",
       "<p>10 rows × 1953 columns</p>\n",
       "</div>"
      ],
      "text/plain": [
       "   kuning  buka  dampak  kecil  kajian  terkait  normal  celaka  nyinyir  \\\n",
       "0       1     0       0      0       0        0       0       0        0   \n",
       "1       0     1       1      1       0        0       0       0        0   \n",
       "2       0     0       0      0       1        1       2       1        1   \n",
       "3       0     0       0      0       0        0       0       0        0   \n",
       "4       0     0       0      0       0        0       0       0        0   \n",
       "5       0     0       0      0       0        0       0       0        0   \n",
       "6       0     0       0      0       0        0       0       0        0   \n",
       "7       0     0       0      0       0        0       0       0        0   \n",
       "8       0     1       0      0       0        0       0       0        0   \n",
       "9       0     0       0      0       0        0       1       0        0   \n",
       "\n",
       "   sakit  ...  mangkel  seni  realitas  menjemukan  respons  kacuk  \\\n",
       "0      0  ...        0     0         0           0        0      0   \n",
       "1      0  ...        0     0         0           0        0      0   \n",
       "2      1  ...        0     0         0           0        0      0   \n",
       "3      0  ...        0     0         0           0        0      0   \n",
       "4      0  ...        0     0         0           0        0      0   \n",
       "5      0  ...        0     0         0           0        0      0   \n",
       "6      0  ...        0     0         0           0        0      0   \n",
       "7      0  ...        0     0         0           0        0      0   \n",
       "8      0  ...        0     0         0           0        0      0   \n",
       "9      0  ...        0     0         0           0        0      0   \n",
       "\n",
       "   mengucapkan  mewujudkan  tara  sentiment  \n",
       "0            0           0     0         -4  \n",
       "1            0           0     0          3  \n",
       "2            0           0     0          1  \n",
       "3            0           0     0         -2  \n",
       "4            0           0     0         -2  \n",
       "5            0           0     0          6  \n",
       "6            0           0     0          2  \n",
       "7            0           0     0          8  \n",
       "8            0           0     0          2  \n",
       "9            0           0     0         11  \n",
       "\n",
       "[10 rows x 1953 columns]"
      ]
     },
     "execution_count": 48,
     "metadata": {},
     "output_type": "execute_result"
    }
   ],
   "source": [
    "df_sen.head(10)"
   ]
  },
  {
   "cell_type": "markdown",
   "metadata": {},
   "source": [
    "lets see if the sentiment is correct by looking at the original text"
   ]
  },
  {
   "cell_type": "code",
   "execution_count": 49,
   "metadata": {},
   "outputs": [],
   "source": [
    "cek_df = pd.DataFrame([])\n",
    "cek_df['text'] = df['original_text'].copy()\n",
    "cek_df['sentiment']  = df_sen['sentiment'].copy()"
   ]
  },
  {
   "cell_type": "code",
   "execution_count": 50,
   "metadata": {},
   "outputs": [
    {
     "data": {
      "text/html": [
       "<div>\n",
       "<style scoped>\n",
       "    .dataframe tbody tr th:only-of-type {\n",
       "        vertical-align: middle;\n",
       "    }\n",
       "\n",
       "    .dataframe tbody tr th {\n",
       "        vertical-align: top;\n",
       "    }\n",
       "\n",
       "    .dataframe thead th {\n",
       "        text-align: right;\n",
       "    }\n",
       "</style>\n",
       "<table border=\"1\" class=\"dataframe\">\n",
       "  <thead>\n",
       "    <tr style=\"text-align: right;\">\n",
       "      <th></th>\n",
       "      <th>text</th>\n",
       "      <th>sentiment</th>\n",
       "    </tr>\n",
       "  </thead>\n",
       "  <tbody>\n",
       "    <tr>\n",
       "      <th>0</th>\n",
       "      <td>RT @ridwankamil: Minggu ini 60% Kota/Kab Jabar sudah di zona Biru (level 2) dan 40 % di zona kun...</td>\n",
       "      <td>-4</td>\n",
       "    </tr>\n",
       "    <tr>\n",
       "      <th>1</th>\n",
       "      <td>RT @kompascom: Pembukaan mal tidak berarti akan berdampak pada masyarakat kecil. Hal itu karena ...</td>\n",
       "      <td>3</td>\n",
       "    </tr>\n",
       "    <tr>\n",
       "      <th>2</th>\n",
       "      <td>Pemerintah tentunya sudah melakukan kajian/pertimbangan2 yg matang terkait diberlakukannya New N...</td>\n",
       "      <td>1</td>\n",
       "    </tr>\n",
       "    <tr>\n",
       "      <th>3</th>\n",
       "      <td>RT @Covid19Update24: Indonesia #COVID19 growth rate is fastest in Asean Region, not looking to s...</td>\n",
       "      <td>-2</td>\n",
       "    </tr>\n",
       "    <tr>\n",
       "      <th>4</th>\n",
       "      <td>@iksansaptari Hahaha\\r\\nKokojo\\r\\nAing arek nonton pisan hindia 2 poe samemeh PSBB di tetap kan ...</td>\n",
       "      <td>-2</td>\n",
       "    </tr>\n",
       "    <tr>\n",
       "      <th>5</th>\n",
       "      <td>@Asknonym Itu lucu kok. Tapi pertanyaan gue pas u bilang u jalan2, kok lu bisa jalan2 dah? Ga ad...</td>\n",
       "      <td>6</td>\n",
       "    </tr>\n",
       "    <tr>\n",
       "      <th>6</th>\n",
       "      <td>RT @Bandungfess: Euy diperpanjang ceunah psbb na https://t.co/prJeyzBW4i</td>\n",
       "      <td>2</td>\n",
       "    </tr>\n",
       "    <tr>\n",
       "      <th>7</th>\n",
       "      <td>Orang yg masih ga menerapkan social distancing atau psbb itu pikirannya mungkin \"semua makhluk h...</td>\n",
       "      <td>8</td>\n",
       "    </tr>\n",
       "    <tr>\n",
       "      <th>8</th>\n",
       "      <td>@DrSukamta @FPKSDPRRI Bkn tidak mampu \\r\\nTp sptinya dpt tekanan dr pengusaha2 Nya.\\r\\nKt sdh ma...</td>\n",
       "      <td>2</td>\n",
       "    </tr>\n",
       "    <tr>\n",
       "      <th>9</th>\n",
       "      <td>RT @detikcom: Menjelang era new normal pada 1 Juni 2020 di Jawa Barat (Jabar), terbit Surat Kepu...</td>\n",
       "      <td>11</td>\n",
       "    </tr>\n",
       "  </tbody>\n",
       "</table>\n",
       "</div>"
      ],
      "text/plain": [
       "                                                                                                  text  \\\n",
       "0  RT @ridwankamil: Minggu ini 60% Kota/Kab Jabar sudah di zona Biru (level 2) dan 40 % di zona kun...   \n",
       "1  RT @kompascom: Pembukaan mal tidak berarti akan berdampak pada masyarakat kecil. Hal itu karena ...   \n",
       "2  Pemerintah tentunya sudah melakukan kajian/pertimbangan2 yg matang terkait diberlakukannya New N...   \n",
       "3  RT @Covid19Update24: Indonesia #COVID19 growth rate is fastest in Asean Region, not looking to s...   \n",
       "4  @iksansaptari Hahaha\\r\\nKokojo\\r\\nAing arek nonton pisan hindia 2 poe samemeh PSBB di tetap kan ...   \n",
       "5  @Asknonym Itu lucu kok. Tapi pertanyaan gue pas u bilang u jalan2, kok lu bisa jalan2 dah? Ga ad...   \n",
       "6                             RT @Bandungfess: Euy diperpanjang ceunah psbb na https://t.co/prJeyzBW4i   \n",
       "7  Orang yg masih ga menerapkan social distancing atau psbb itu pikirannya mungkin \"semua makhluk h...   \n",
       "8  @DrSukamta @FPKSDPRRI Bkn tidak mampu \\r\\nTp sptinya dpt tekanan dr pengusaha2 Nya.\\r\\nKt sdh ma...   \n",
       "9  RT @detikcom: Menjelang era new normal pada 1 Juni 2020 di Jawa Barat (Jabar), terbit Surat Kepu...   \n",
       "\n",
       "   sentiment  \n",
       "0         -4  \n",
       "1          3  \n",
       "2          1  \n",
       "3         -2  \n",
       "4         -2  \n",
       "5          6  \n",
       "6          2  \n",
       "7          8  \n",
       "8          2  \n",
       "9         11  "
      ]
     },
     "execution_count": 50,
     "metadata": {},
     "output_type": "execute_result"
    }
   ],
   "source": [
    "cek_df.head(10)"
   ]
  },
  {
   "cell_type": "markdown",
   "metadata": {},
   "source": [
    "# EDA"
   ]
  },
  {
   "cell_type": "code",
   "execution_count": 51,
   "metadata": {},
   "outputs": [
    {
     "data": {
      "text/plain": [
       "Text(0.5, 0, 'sentiment')"
      ]
     },
     "execution_count": 51,
     "metadata": {},
     "output_type": "execute_result"
    },
    {
     "data": {
      "image/png": "[encoded data removed]",
      "text/plain": [
       "<Figure size 432x288 with 1 Axes>"
      ]
     },
     "metadata": {},
     "output_type": "display_data"
    }
   ],
   "source": [
    "sns.set(style=\"white\", palette=\"muted\", color_codes=True)\n",
    "sns.kdeplot(df_sen['sentiment'],color='m',shade=True)\n",
    "plt.title('Sentiment Distribution')\n",
    "plt.xlabel('sentiment')"
   ]
  },
  {
   "cell_type": "code",
   "execution_count": 52,
   "metadata": {},
   "outputs": [
    {
     "data": {
      "text/plain": [
       "<matplotlib.axes._subplots.AxesSubplot at 0x2a9e0d65288>"
      ]
     },
     "execution_count": 52,
     "metadata": {},
     "output_type": "execute_result"
    },
    {
     "data": {
      "image/png": "[encoded data removed]",
      "text/plain": [
       "<Figure size 432x288 with 1 Axes>"
      ]
     },
     "metadata": {},
     "output_type": "display_data"
    }
   ],
   "source": [
    "sns.set(style=\"whitegrid\") \n",
    "sns.boxplot(x=df_sen['sentiment'])"
   ]
  },
  {
   "cell_type": "markdown",
   "metadata": {},
   "source": [
    "It look like the sentiments are equally distributed between positive and negative, to be sure, lets take a look at the mean"
   ]
  },
  {
   "cell_type": "code",
   "execution_count": 53,
   "metadata": {},
   "outputs": [
    {
     "data": {
      "text/html": [
       "<div>\n",
       "<style scoped>\n",
       "    .dataframe tbody tr th:only-of-type {\n",
       "        vertical-align: middle;\n",
       "    }\n",
       "\n",
       "    .dataframe tbody tr th {\n",
       "        vertical-align: top;\n",
       "    }\n",
       "\n",
       "    .dataframe thead th {\n",
       "        text-align: right;\n",
       "    }\n",
       "</style>\n",
       "<table border=\"1\" class=\"dataframe\">\n",
       "  <thead>\n",
       "    <tr style=\"text-align: right;\">\n",
       "      <th></th>\n",
       "      <th>kuning</th>\n",
       "      <th>buka</th>\n",
       "      <th>dampak</th>\n",
       "      <th>kecil</th>\n",
       "      <th>kajian</th>\n",
       "      <th>terkait</th>\n",
       "      <th>normal</th>\n",
       "      <th>celaka</th>\n",
       "      <th>nyinyir</th>\n",
       "      <th>sakit</th>\n",
       "      <th>...</th>\n",
       "      <th>mangkel</th>\n",
       "      <th>seni</th>\n",
       "      <th>realitas</th>\n",
       "      <th>menjemukan</th>\n",
       "      <th>respons</th>\n",
       "      <th>kacuk</th>\n",
       "      <th>mengucapkan</th>\n",
       "      <th>mewujudkan</th>\n",
       "      <th>tara</th>\n",
       "      <th>sentiment</th>\n",
       "    </tr>\n",
       "  </thead>\n",
       "  <tbody>\n",
       "    <tr>\n",
       "      <th>count</th>\n",
       "      <td>7822.000000</td>\n",
       "      <td>7822.000000</td>\n",
       "      <td>7822.000000</td>\n",
       "      <td>7822.000000</td>\n",
       "      <td>7822.000000</td>\n",
       "      <td>7822.000000</td>\n",
       "      <td>7822.000000</td>\n",
       "      <td>7822.000000</td>\n",
       "      <td>7822.000000</td>\n",
       "      <td>7822.000000</td>\n",
       "      <td>...</td>\n",
       "      <td>7822.000000</td>\n",
       "      <td>7822.000000</td>\n",
       "      <td>7822.000000</td>\n",
       "      <td>7822.000000</td>\n",
       "      <td>7822.000000</td>\n",
       "      <td>7822.000000</td>\n",
       "      <td>7822.000000</td>\n",
       "      <td>7822.000000</td>\n",
       "      <td>7822.000000</td>\n",
       "      <td>7822.000000</td>\n",
       "    </tr>\n",
       "    <tr>\n",
       "      <th>mean</th>\n",
       "      <td>0.029532</td>\n",
       "      <td>0.030043</td>\n",
       "      <td>0.005242</td>\n",
       "      <td>0.002429</td>\n",
       "      <td>0.000128</td>\n",
       "      <td>0.004986</td>\n",
       "      <td>0.130146</td>\n",
       "      <td>0.000128</td>\n",
       "      <td>0.000767</td>\n",
       "      <td>0.001662</td>\n",
       "      <td>...</td>\n",
       "      <td>0.000128</td>\n",
       "      <td>0.000128</td>\n",
       "      <td>0.000384</td>\n",
       "      <td>0.000128</td>\n",
       "      <td>0.000128</td>\n",
       "      <td>0.000128</td>\n",
       "      <td>0.000128</td>\n",
       "      <td>0.000128</td>\n",
       "      <td>0.000128</td>\n",
       "      <td>0.183840</td>\n",
       "    </tr>\n",
       "    <tr>\n",
       "      <th>std</th>\n",
       "      <td>0.170057</td>\n",
       "      <td>0.197134</td>\n",
       "      <td>0.072214</td>\n",
       "      <td>0.049229</td>\n",
       "      <td>0.011307</td>\n",
       "      <td>0.075689</td>\n",
       "      <td>0.391952</td>\n",
       "      <td>0.011307</td>\n",
       "      <td>0.031973</td>\n",
       "      <td>0.040736</td>\n",
       "      <td>...</td>\n",
       "      <td>0.011307</td>\n",
       "      <td>0.011307</td>\n",
       "      <td>0.033921</td>\n",
       "      <td>0.011307</td>\n",
       "      <td>0.011307</td>\n",
       "      <td>0.011307</td>\n",
       "      <td>0.011307</td>\n",
       "      <td>0.011307</td>\n",
       "      <td>0.011307</td>\n",
       "      <td>6.289297</td>\n",
       "    </tr>\n",
       "    <tr>\n",
       "      <th>min</th>\n",
       "      <td>0.000000</td>\n",
       "      <td>0.000000</td>\n",
       "      <td>0.000000</td>\n",
       "      <td>0.000000</td>\n",
       "      <td>0.000000</td>\n",
       "      <td>0.000000</td>\n",
       "      <td>0.000000</td>\n",
       "      <td>0.000000</td>\n",
       "      <td>0.000000</td>\n",
       "      <td>0.000000</td>\n",
       "      <td>...</td>\n",
       "      <td>0.000000</td>\n",
       "      <td>0.000000</td>\n",
       "      <td>0.000000</td>\n",
       "      <td>0.000000</td>\n",
       "      <td>0.000000</td>\n",
       "      <td>0.000000</td>\n",
       "      <td>0.000000</td>\n",
       "      <td>0.000000</td>\n",
       "      <td>0.000000</td>\n",
       "      <td>-37.000000</td>\n",
       "    </tr>\n",
       "    <tr>\n",
       "      <th>25%</th>\n",
       "      <td>0.000000</td>\n",
       "      <td>0.000000</td>\n",
       "      <td>0.000000</td>\n",
       "      <td>0.000000</td>\n",
       "      <td>0.000000</td>\n",
       "      <td>0.000000</td>\n",
       "      <td>0.000000</td>\n",
       "      <td>0.000000</td>\n",
       "      <td>0.000000</td>\n",
       "      <td>0.000000</td>\n",
       "      <td>...</td>\n",
       "      <td>0.000000</td>\n",
       "      <td>0.000000</td>\n",
       "      <td>0.000000</td>\n",
       "      <td>0.000000</td>\n",
       "      <td>0.000000</td>\n",
       "      <td>0.000000</td>\n",
       "      <td>0.000000</td>\n",
       "      <td>0.000000</td>\n",
       "      <td>0.000000</td>\n",
       "      <td>-3.000000</td>\n",
       "    </tr>\n",
       "    <tr>\n",
       "      <th>50%</th>\n",
       "      <td>0.000000</td>\n",
       "      <td>0.000000</td>\n",
       "      <td>0.000000</td>\n",
       "      <td>0.000000</td>\n",
       "      <td>0.000000</td>\n",
       "      <td>0.000000</td>\n",
       "      <td>0.000000</td>\n",
       "      <td>0.000000</td>\n",
       "      <td>0.000000</td>\n",
       "      <td>0.000000</td>\n",
       "      <td>...</td>\n",
       "      <td>0.000000</td>\n",
       "      <td>0.000000</td>\n",
       "      <td>0.000000</td>\n",
       "      <td>0.000000</td>\n",
       "      <td>0.000000</td>\n",
       "      <td>0.000000</td>\n",
       "      <td>0.000000</td>\n",
       "      <td>0.000000</td>\n",
       "      <td>0.000000</td>\n",
       "      <td>0.000000</td>\n",
       "    </tr>\n",
       "    <tr>\n",
       "      <th>75%</th>\n",
       "      <td>0.000000</td>\n",
       "      <td>0.000000</td>\n",
       "      <td>0.000000</td>\n",
       "      <td>0.000000</td>\n",
       "      <td>0.000000</td>\n",
       "      <td>0.000000</td>\n",
       "      <td>0.000000</td>\n",
       "      <td>0.000000</td>\n",
       "      <td>0.000000</td>\n",
       "      <td>0.000000</td>\n",
       "      <td>...</td>\n",
       "      <td>0.000000</td>\n",
       "      <td>0.000000</td>\n",
       "      <td>0.000000</td>\n",
       "      <td>0.000000</td>\n",
       "      <td>0.000000</td>\n",
       "      <td>0.000000</td>\n",
       "      <td>0.000000</td>\n",
       "      <td>0.000000</td>\n",
       "      <td>0.000000</td>\n",
       "      <td>3.000000</td>\n",
       "    </tr>\n",
       "    <tr>\n",
       "      <th>max</th>\n",
       "      <td>2.000000</td>\n",
       "      <td>3.000000</td>\n",
       "      <td>1.000000</td>\n",
       "      <td>1.000000</td>\n",
       "      <td>1.000000</td>\n",
       "      <td>2.000000</td>\n",
       "      <td>4.000000</td>\n",
       "      <td>1.000000</td>\n",
       "      <td>2.000000</td>\n",
       "      <td>1.000000</td>\n",
       "      <td>...</td>\n",
       "      <td>1.000000</td>\n",
       "      <td>1.000000</td>\n",
       "      <td>3.000000</td>\n",
       "      <td>1.000000</td>\n",
       "      <td>1.000000</td>\n",
       "      <td>1.000000</td>\n",
       "      <td>1.000000</td>\n",
       "      <td>1.000000</td>\n",
       "      <td>1.000000</td>\n",
       "      <td>34.000000</td>\n",
       "    </tr>\n",
       "  </tbody>\n",
       "</table>\n",
       "<p>8 rows × 1953 columns</p>\n",
       "</div>"
      ],
      "text/plain": [
       "            kuning         buka       dampak        kecil       kajian  \\\n",
       "count  7822.000000  7822.000000  7822.000000  7822.000000  7822.000000   \n",
       "mean      0.029532     0.030043     0.005242     0.002429     0.000128   \n",
       "std       0.170057     0.197134     0.072214     0.049229     0.011307   \n",
       "min       0.000000     0.000000     0.000000     0.000000     0.000000   \n",
       "25%       0.000000     0.000000     0.000000     0.000000     0.000000   \n",
       "50%       0.000000     0.000000     0.000000     0.000000     0.000000   \n",
       "75%       0.000000     0.000000     0.000000     0.000000     0.000000   \n",
       "max       2.000000     3.000000     1.000000     1.000000     1.000000   \n",
       "\n",
       "           terkait       normal       celaka      nyinyir        sakit  ...  \\\n",
       "count  7822.000000  7822.000000  7822.000000  7822.000000  7822.000000  ...   \n",
       "mean      0.004986     0.130146     0.000128     0.000767     0.001662  ...   \n",
       "std       0.075689     0.391952     0.011307     0.031973     0.040736  ...   \n",
       "min       0.000000     0.000000     0.000000     0.000000     0.000000  ...   \n",
       "25%       0.000000     0.000000     0.000000     0.000000     0.000000  ...   \n",
       "50%       0.000000     0.000000     0.000000     0.000000     0.000000  ...   \n",
       "75%       0.000000     0.000000     0.000000     0.000000     0.000000  ...   \n",
       "max       2.000000     4.000000     1.000000     2.000000     1.000000  ...   \n",
       "\n",
       "           mangkel         seni     realitas   menjemukan      respons  \\\n",
       "count  7822.000000  7822.000000  7822.000000  7822.000000  7822.000000   \n",
       "mean      0.000128     0.000128     0.000384     0.000128     0.000128   \n",
       "std       0.011307     0.011307     0.033921     0.011307     0.011307   \n",
       "min       0.000000     0.000000     0.000000     0.000000     0.000000   \n",
       "25%       0.000000     0.000000     0.000000     0.000000     0.000000   \n",
       "50%       0.000000     0.000000     0.000000     0.000000     0.000000   \n",
       "75%       0.000000     0.000000     0.000000     0.000000     0.000000   \n",
       "max       1.000000     1.000000     3.000000     1.000000     1.000000   \n",
       "\n",
       "             kacuk  mengucapkan   mewujudkan         tara    sentiment  \n",
       "count  7822.000000  7822.000000  7822.000000  7822.000000  7822.000000  \n",
       "mean      0.000128     0.000128     0.000128     0.000128     0.183840  \n",
       "std       0.011307     0.011307     0.011307     0.011307     6.289297  \n",
       "min       0.000000     0.000000     0.000000     0.000000   -37.000000  \n",
       "25%       0.000000     0.000000     0.000000     0.000000    -3.000000  \n",
       "50%       0.000000     0.000000     0.000000     0.000000     0.000000  \n",
       "75%       0.000000     0.000000     0.000000     0.000000     3.000000  \n",
       "max       1.000000     1.000000     1.000000     1.000000    34.000000  \n",
       "\n",
       "[8 rows x 1953 columns]"
      ]
     },
     "execution_count": 53,
     "metadata": {},
     "output_type": "execute_result"
    }
   ],
   "source": [
    "df_sen.describe()"
   ]
  },
  {
   "cell_type": "markdown",
   "metadata": {},
   "source": [
    "it's look like it is almost equally distributed , but the positive have a little bigger occurence here"
   ]
  },
  {
   "cell_type": "markdown",
   "metadata": {},
   "source": [
    "Now let's take a look at the correlation between words that is included in the sentiment"
   ]
  },
  {
   "cell_type": "code",
   "execution_count": 54,
   "metadata": {},
   "outputs": [],
   "source": [
    "def get_redundant_pairs(df):\n",
    "    '''Get diagonal and lower triangular pairs of correlation matrix'''\n",
    "    pairs_to_drop = set()\n",
    "    cols = df.columns\n",
    "    for i in range(0, df.shape[1]):\n",
    "        for j in range(0, i+1):\n",
    "            pairs_to_drop.add((cols[i], cols[j]))\n",
    "    return pairs_to_drop\n",
    "\n",
    "def get_top_abs_correlations(df, n=10):\n",
    "    au_corr = df.corr().abs().unstack()\n",
    "    labels_to_drop = get_redundant_pairs(df)\n",
    "    au_corr = au_corr.drop(labels=labels_to_drop).sort_values(ascending=False)\n",
    "    return au_corr\n",
    "\n",
    "#print(\"Top Absolute Correlations\")\n",
    "#print(get_top_abs_correlations(df_sen, 10))\n",
    "au = get_top_abs_correlations(df_sen, 15)"
   ]
  },
  {
   "cell_type": "code",
   "execution_count": 55,
   "metadata": {},
   "outputs": [
    {
     "name": "stdout",
     "output_type": "stream",
     "text": [
      "Perfect Correlation\n"
     ]
    },
    {
     "data": {
      "text/plain": [
       "pemberian    menghubungi    1.0\n",
       "bakti        empang         1.0\n",
       "ekor         ceroboh        1.0\n",
       "sambang      kesah          1.0\n",
       "mengartikan  pantesan       1.0\n",
       "                           ... \n",
       "pengumuman   ketularan      1.0\n",
       "perut        harus          1.0\n",
       "berkilah     absurd         1.0\n",
       "nabi         shalat         1.0\n",
       "perut        ihh            1.0\n",
       "Length: 156, dtype: float64"
      ]
     },
     "execution_count": 55,
     "metadata": {},
     "output_type": "execute_result"
    }
   ],
   "source": [
    "print('Perfect Correlation')\n",
    "au[au==1]"
   ]
  },
  {
   "cell_type": "markdown",
   "metadata": {},
   "source": [
    "it turns out that there are 156 word that always occur together in every text, although we dont really see how much of the sentences that is included there but the correlation is pretty high"
   ]
  },
  {
   "cell_type": "code",
   "execution_count": 56,
   "metadata": {},
   "outputs": [],
   "source": [
    "top10 = au[au<float(1)][0:10]\n",
    "label = top10.index\n",
    "label_list =[]\n",
    "for i in label:\n",
    "    for j in i:\n",
    "        if(j not in label_list):\n",
    "            label_list.append(j)\n",
    "            \n",
    "df_sen_corr = df_sen[label_list]\n",
    "corr = df_sen_corr.corr()\n",
    "for i in label_list:\n",
    "    for j in label_list:\n",
    "        if i!=j:\n",
    "            corr[i][j] = round(corr[i][j],3)\n",
    "            "
   ]
  },
  {
   "cell_type": "markdown",
   "metadata": {},
   "source": [
    "now let's take a look at other word, that is now always but often come together as the correlation quite high althoughh not equal to 1"
   ]
  },
  {
   "cell_type": "code",
   "execution_count": 57,
   "metadata": {},
   "outputs": [
    {
     "data": {
      "image/png": "[encoded data removed]",
      "text/plain": [
       "<Figure size 1080x1080 with 2 Axes>"
      ]
     },
     "metadata": {},
     "output_type": "display_data"
    }
   ],
   "source": [
    "plt.figure(figsize=(15,15))\n",
    "\n",
    "h = sns.heatmap(corr, annot=True,vmin=-1, vmax=1, center= 0)\n",
    "\n",
    "plt.show()"
   ]
  },
  {
   "cell_type": "code",
   "execution_count": 58,
   "metadata": {},
   "outputs": [],
   "source": [
    "top15 = au[au<float(1)][0:15]"
   ]
  },
  {
   "cell_type": "code",
   "execution_count": 59,
   "metadata": {},
   "outputs": [
    {
     "data": {
      "image/png": "[encoded data removed]",
      "text/plain": [
       "<Figure size 432x288 with 1 Axes>"
      ]
     },
     "metadata": {},
     "output_type": "display_data"
    }
   ],
   "source": [
    "pal =sns.dark_palette(\"purple\", input=\"xkcd\",n_colors=15)\n",
    "g = sns.barplot(y = top15.index , x = top15,palette=pal)\n",
    "g.grid=False\n",
    "plt.xlabel('correlation')\n",
    "plt.ylabel('pair of words')\n",
    "plt.title(\"Top 15 Not-Perfect Correlation\",fontweight='bold') \n",
    "for i in range(15):\n",
    "    g.text(top15[i],i+0.22, round(top15[i],3),color='black')\n",
    "plt.show()"
   ]
  },
  {
   "cell_type": "markdown",
   "metadata": {},
   "source": [
    "It looks like most of them is naturally come together but there are some that not really immeadiately come to mind"
   ]
  },
  {
   "cell_type": "markdown",
   "metadata": {},
   "source": [
    "now lets take a look at the most occured words among the set of words that is included in lexicon"
   ]
  },
  {
   "cell_type": "code",
   "execution_count": 60,
   "metadata": {},
   "outputs": [],
   "source": [
    "top15_word = df_sen.drop(['sentiment'],axis=1).sum().sort_values(ascending=False)[0:15]"
   ]
  },
  {
   "cell_type": "code",
   "execution_count": 61,
   "metadata": {},
   "outputs": [
    {
     "data": {
      "image/png": "[encoded data removed]",
      "text/plain": [
       "<Figure size 432x288 with 1 Axes>"
      ]
     },
     "metadata": {},
     "output_type": "display_data"
    }
   ],
   "source": [
    "#pal =sns.dark_palette(\"purple\", input=\"xkcd\",n_colors=15)\n",
    "pal =sns.light_palette(\"navy\", reverse=True,n_colors=15)\n",
    "g = sns.barplot(y = top15_word.index , x = top15_word,palette=pal)\n",
    "g.grid(False)\n",
    "plt.xlabel('Occurences')\n",
    "plt.ylabel('Words')\n",
    "plt.title(\"Top 15 Most Often Occured Words\",fontweight='bold') \n",
    "for i in range(15):\n",
    "    g.text(top15_word[i],i+0.22, top15_word[i],color='black')\n",
    "plt.show()"
   ]
  },
  {
   "cell_type": "markdown",
   "metadata": {},
   "source": [
    "## Beyond Words"
   ]
  },
  {
   "cell_type": "markdown",
   "metadata": {},
   "source": [
    "now we want to explore more than the word it self, hence we pass the sentiment into the original dataset and then explore some data there "
   ]
  },
  {
   "cell_type": "code",
   "execution_count": 62,
   "metadata": {},
   "outputs": [],
   "source": [
    "df['sentiment'] = df_sen['sentiment']"
   ]
  },
  {
   "cell_type": "code",
   "execution_count": 63,
   "metadata": {},
   "outputs": [
    {
     "data": {
      "text/html": [
       "<div>\n",
       "<style scoped>\n",
       "    .dataframe tbody tr th:only-of-type {\n",
       "        vertical-align: middle;\n",
       "    }\n",
       "\n",
       "    .dataframe tbody tr th {\n",
       "        vertical-align: top;\n",
       "    }\n",
       "\n",
       "    .dataframe thead th {\n",
       "        text-align: right;\n",
       "    }\n",
       "</style>\n",
       "<table border=\"1\" class=\"dataframe\">\n",
       "  <thead>\n",
       "    <tr style=\"text-align: right;\">\n",
       "      <th></th>\n",
       "      <th>id</th>\n",
       "      <th>created_at</th>\n",
       "      <th>source</th>\n",
       "      <th>original_text</th>\n",
       "      <th>clean_text</th>\n",
       "      <th>lang</th>\n",
       "      <th>favorite_count</th>\n",
       "      <th>retweet_count</th>\n",
       "      <th>original_author</th>\n",
       "      <th>possibly_sensitive</th>\n",
       "      <th>hashtags</th>\n",
       "      <th>user_mentions</th>\n",
       "      <th>place</th>\n",
       "      <th>place_coord_boundaries</th>\n",
       "      <th>date_created</th>\n",
       "      <th>time_created</th>\n",
       "      <th>word_length</th>\n",
       "      <th>sentiment</th>\n",
       "    </tr>\n",
       "  </thead>\n",
       "  <tbody>\n",
       "    <tr>\n",
       "      <th>0</th>\n",
       "      <td>1266039172315230209</td>\n",
       "      <td>Thu May 28 16:10:35 +0000 2020</td>\n",
       "      <td>&lt;a href=\"http://twitter.com/download/android\" rel=\"nofollow\"&gt;Twitter for Android&lt;/a&gt;</td>\n",
       "      <td>RT @ridwankamil: Minggu ini 60% Kota/Kab Jabar sudah di zona Biru (level 2) dan 40 % di zona kun...</td>\n",
       "      <td>kota kabupaten jabar zona biru level zona kuning level tidak zon</td>\n",
       "      <td>in</td>\n",
       "      <td>0</td>\n",
       "      <td>342</td>\n",
       "      <td>cmdblck</td>\n",
       "      <td>NaN</td>\n",
       "      <td>NaN</td>\n",
       "      <td>ridwankamil</td>\n",
       "      <td>NaN</td>\n",
       "      <td>NaN</td>\n",
       "      <td>2020-05-28</td>\n",
       "      <td>23:10:35</td>\n",
       "      <td>11</td>\n",
       "      <td>-4</td>\n",
       "    </tr>\n",
       "    <tr>\n",
       "      <th>1</th>\n",
       "      <td>1266039166350983169</td>\n",
       "      <td>Thu May 28 16:10:33 +0000 2020</td>\n",
       "      <td>&lt;a href=\"http://twitter.com/download/android\" rel=\"nofollow\"&gt;Twitter for Android&lt;/a&gt;</td>\n",
       "      <td>RT @kompascom: Pembukaan mal tidak berarti akan berdampak pada masyarakat kecil. Hal itu karena ...</td>\n",
       "      <td>pembukaan mal tidak berdampak masyarakat kecil mal mal menyasar kalangan mene</td>\n",
       "      <td>in</td>\n",
       "      <td>0</td>\n",
       "      <td>12</td>\n",
       "      <td>Gulagulalibosku</td>\n",
       "      <td>NaN</td>\n",
       "      <td>NaN</td>\n",
       "      <td>kompascom</td>\n",
       "      <td>Bandung, Jawa Barat</td>\n",
       "      <td>NaN</td>\n",
       "      <td>2020-05-28</td>\n",
       "      <td>23:10:33</td>\n",
       "      <td>11</td>\n",
       "      <td>3</td>\n",
       "    </tr>\n",
       "    <tr>\n",
       "      <th>2</th>\n",
       "      <td>1266039153487044608</td>\n",
       "      <td>Thu May 28 16:10:30 +0000 2020</td>\n",
       "      <td>&lt;a href=\"http://twitter.com/download/android\" rel=\"nofollow\"&gt;Twitter for Android&lt;/a&gt;</td>\n",
       "      <td>Pemerintah tentunya sudah melakukan kajian/pertimbangan2 yg matang terkait diberlakukannya New N...</td>\n",
       "      <td>melakukan kajian pertimbangan matang terkait diberlakukannya new normal catat presiden tidak men...</td>\n",
       "      <td>in</td>\n",
       "      <td>0</td>\n",
       "      <td>0</td>\n",
       "      <td>HmfaqihA</td>\n",
       "      <td>NaN</td>\n",
       "      <td>NaN</td>\n",
       "      <td>NaN</td>\n",
       "      <td>NaN</td>\n",
       "      <td>NaN</td>\n",
       "      <td>2020-05-28</td>\n",
       "      <td>23:10:30</td>\n",
       "      <td>23</td>\n",
       "      <td>1</td>\n",
       "    </tr>\n",
       "    <tr>\n",
       "      <th>3</th>\n",
       "      <td>1266039147149422592</td>\n",
       "      <td>Thu May 28 16:10:29 +0000 2020</td>\n",
       "      <td>&lt;a href=\"https://mobile.twitter.com\" rel=\"nofollow\"&gt;Twitter Web App&lt;/a&gt;</td>\n",
       "      <td>RT @Covid19Update24: Indonesia #COVID19 growth rate is fastest in Asean Region, not looking to s...</td>\n",
       "      <td>growth rate is fastest in asean region not looking to slow down anytime soon will beat singapore</td>\n",
       "      <td>en</td>\n",
       "      <td>0</td>\n",
       "      <td>111</td>\n",
       "      <td>Summa_CL</td>\n",
       "      <td>NaN</td>\n",
       "      <td>COVID19</td>\n",
       "      <td>Covid19Update24</td>\n",
       "      <td>Road to Success🌟</td>\n",
       "      <td>NaN</td>\n",
       "      <td>2020-05-28</td>\n",
       "      <td>23:10:29</td>\n",
       "      <td>17</td>\n",
       "      <td>-2</td>\n",
       "    </tr>\n",
       "    <tr>\n",
       "      <th>4</th>\n",
       "      <td>1266039127834636291</td>\n",
       "      <td>Thu May 28 16:10:24 +0000 2020</td>\n",
       "      <td>&lt;a href=\"http://twitter.com/download/android\" rel=\"nofollow\"&gt;Twitter for Android&lt;/a&gt;</td>\n",
       "      <td>@iksansaptari Hahaha\\r\\nKokojo\\r\\nAing arek nonton pisan hindia 2 poe samemeh PSBB di tetap kan ...</td>\n",
       "      <td>hahaha kokojo arek nonton hindia poe samemeh kan eh batalkan eh ganti jadwal</td>\n",
       "      <td>in</td>\n",
       "      <td>0</td>\n",
       "      <td>0</td>\n",
       "      <td>Prayogaaaaaaa</td>\n",
       "      <td>NaN</td>\n",
       "      <td>NaN</td>\n",
       "      <td>iksansaptari</td>\n",
       "      <td>Ciamis, Indonesia</td>\n",
       "      <td>[[108.391549, -7.363503], [108.494179, -7.363503], [108.494179, -7.293356], [108.391549, -7.2933...</td>\n",
       "      <td>2020-05-28</td>\n",
       "      <td>23:10:24</td>\n",
       "      <td>13</td>\n",
       "      <td>-2</td>\n",
       "    </tr>\n",
       "  </tbody>\n",
       "</table>\n",
       "</div>"
      ],
      "text/plain": [
       "                    id                      created_at  \\\n",
       "0  1266039172315230209  Thu May 28 16:10:35 +0000 2020   \n",
       "1  1266039166350983169  Thu May 28 16:10:33 +0000 2020   \n",
       "2  1266039153487044608  Thu May 28 16:10:30 +0000 2020   \n",
       "3  1266039147149422592  Thu May 28 16:10:29 +0000 2020   \n",
       "4  1266039127834636291  Thu May 28 16:10:24 +0000 2020   \n",
       "\n",
       "                                                                                 source  \\\n",
       "0  <a href=\"http://twitter.com/download/android\" rel=\"nofollow\">Twitter for Android</a>   \n",
       "1  <a href=\"http://twitter.com/download/android\" rel=\"nofollow\">Twitter for Android</a>   \n",
       "2  <a href=\"http://twitter.com/download/android\" rel=\"nofollow\">Twitter for Android</a>   \n",
       "3               <a href=\"https://mobile.twitter.com\" rel=\"nofollow\">Twitter Web App</a>   \n",
       "4  <a href=\"http://twitter.com/download/android\" rel=\"nofollow\">Twitter for Android</a>   \n",
       "\n",
       "                                                                                         original_text  \\\n",
       "0  RT @ridwankamil: Minggu ini 60% Kota/Kab Jabar sudah di zona Biru (level 2) dan 40 % di zona kun...   \n",
       "1  RT @kompascom: Pembukaan mal tidak berarti akan berdampak pada masyarakat kecil. Hal itu karena ...   \n",
       "2  Pemerintah tentunya sudah melakukan kajian/pertimbangan2 yg matang terkait diberlakukannya New N...   \n",
       "3  RT @Covid19Update24: Indonesia #COVID19 growth rate is fastest in Asean Region, not looking to s...   \n",
       "4  @iksansaptari Hahaha\\r\\nKokojo\\r\\nAing arek nonton pisan hindia 2 poe samemeh PSBB di tetap kan ...   \n",
       "\n",
       "                                                                                            clean_text  \\\n",
       "0                                    kota kabupaten jabar zona biru level zona kuning level tidak zon    \n",
       "1                       pembukaan mal tidak berdampak masyarakat kecil mal mal menyasar kalangan mene    \n",
       "2  melakukan kajian pertimbangan matang terkait diberlakukannya new normal catat presiden tidak men...   \n",
       "3    growth rate is fastest in asean region not looking to slow down anytime soon will beat singapore    \n",
       "4                        hahaha kokojo arek nonton hindia poe samemeh kan eh batalkan eh ganti jadwal    \n",
       "\n",
       "  lang  favorite_count  retweet_count  original_author possibly_sensitive  \\\n",
       "0   in               0            342          cmdblck                NaN   \n",
       "1   in               0             12  Gulagulalibosku                NaN   \n",
       "2   in               0              0         HmfaqihA                NaN   \n",
       "3   en               0            111         Summa_CL                NaN   \n",
       "4   in               0              0    Prayogaaaaaaa                NaN   \n",
       "\n",
       "  hashtags    user_mentions                place  \\\n",
       "0      NaN      ridwankamil                  NaN   \n",
       "1      NaN        kompascom  Bandung, Jawa Barat   \n",
       "2      NaN              NaN                  NaN   \n",
       "3  COVID19  Covid19Update24     Road to Success🌟   \n",
       "4      NaN     iksansaptari    Ciamis, Indonesia   \n",
       "\n",
       "                                                                                place_coord_boundaries  \\\n",
       "0                                                                                                  NaN   \n",
       "1                                                                                                  NaN   \n",
       "2                                                                                                  NaN   \n",
       "3                                                                                                  NaN   \n",
       "4  [[108.391549, -7.363503], [108.494179, -7.363503], [108.494179, -7.293356], [108.391549, -7.2933...   \n",
       "\n",
       "  date_created time_created  word_length  sentiment  \n",
       "0   2020-05-28     23:10:35           11         -4  \n",
       "1   2020-05-28     23:10:33           11          3  \n",
       "2   2020-05-28     23:10:30           23          1  \n",
       "3   2020-05-28     23:10:29           17         -2  \n",
       "4   2020-05-28     23:10:24           13         -2  "
      ]
     },
     "execution_count": 63,
     "metadata": {},
     "output_type": "execute_result"
    }
   ],
   "source": [
    "df.head(5)"
   ]
  },
  {
   "cell_type": "code",
   "execution_count": 64,
   "metadata": {},
   "outputs": [
    {
     "data": {
      "text/plain": [
       "id                           0\n",
       "created_at                   0\n",
       "source                       0\n",
       "original_text                0\n",
       "clean_text                   0\n",
       "lang                         0\n",
       "favorite_count               0\n",
       "retweet_count                0\n",
       "original_author              0\n",
       "possibly_sensitive        5490\n",
       "hashtags                  6623\n",
       "user_mentions             1794\n",
       "place                     2600\n",
       "place_coord_boundaries    7703\n",
       "date_created                 0\n",
       "time_created                 0\n",
       "word_length                  0\n",
       "sentiment                    0\n",
       "dtype: int64"
      ]
     },
     "execution_count": 64,
     "metadata": {},
     "output_type": "execute_result"
    }
   ],
   "source": [
    "df.isnull().sum()"
   ]
  },
  {
   "cell_type": "markdown",
   "metadata": {},
   "source": [
    "lets take a look at the other factor that is correlated to the sentiment itself"
   ]
  },
  {
   "cell_type": "code",
   "execution_count": 65,
   "metadata": {},
   "outputs": [
    {
     "data": {
      "image/png": "[encoded data removed]",
      "text/plain": [
       "<Figure size 432x288 with 2 Axes>"
      ]
     },
     "metadata": {},
     "output_type": "display_data"
    }
   ],
   "source": [
    "plt.figure()\n",
    "plt.title('correlation between numerical data',fontweight='bold')\n",
    "df_corr = df.corr()\n",
    "matrix = np.triu(df.corr())\n",
    "cmap =  sns.cubehelix_palette(light=0.5, as_cmap=True)\n",
    "h = sns.heatmap(df_corr, annot=True,vmin=-1, vmax=1, center= 0,mask=matrix,cmap = cmap)\n",
    "\n",
    "plt.show()"
   ]
  },
  {
   "cell_type": "markdown",
   "metadata": {},
   "source": [
    "from the numerical feature, it seems the correlation is very low, now lets take a look at the others"
   ]
  },
  {
   "cell_type": "code",
   "execution_count": 66,
   "metadata": {},
   "outputs": [
    {
     "data": {
      "image/png": "[encoded data removed]",
      "text/plain": [
       "<Figure size 720x576 with 1 Axes>"
      ]
     },
     "metadata": {},
     "output_type": "display_data"
    }
   ],
   "source": [
    "sns.set(style=\"white\", color_codes=True)\n",
    "plt.figure(figsize=(10,8))\n",
    "plt.title('Sentiment in every language used',fontweight='bold')\n",
    "l = sns.boxplot(x='lang',y='sentiment',data=df,palette= sns.color_palette(\"RdPu\", 10))"
   ]
  },
  {
   "cell_type": "markdown",
   "metadata": {},
   "source": [
    "it looks like people from this time frame that  language 'ko' and 'und' always used to give positive sentiment while it is the opposite for 'pt' and 'es'"
   ]
  },
  {
   "cell_type": "code",
   "execution_count": 67,
   "metadata": {},
   "outputs": [
    {
     "data": {
      "image/png": "[encoded data removed]",
      "text/plain": [
       "<Figure size 576x576 with 1 Axes>"
      ]
     },
     "metadata": {},
     "output_type": "display_data"
    }
   ],
   "source": [
    "cek_df = df.dropna(subset=['possibly_sensitive'])\n",
    "cek_df = cek_df.reset_index(drop=True)\n",
    "plt.figure(figsize=(8,8))\n",
    "g = sns.boxplot(x='possibly_sensitive',y='sentiment',data=cek_df)\n",
    "plt.show()"
   ]
  },
  {
   "cell_type": "markdown",
   "metadata": {},
   "source": [
    "the sensitive content does not indicating the statement as they are almost equally distributed among them"
   ]
  },
  {
   "cell_type": "code",
   "execution_count": 68,
   "metadata": {},
   "outputs": [],
   "source": [
    "df_place = df.groupby(['place']).mean().sort_values(by='sentiment',ascending=False)\n",
    "df_place = df_place.reset_index()"
   ]
  },
  {
   "cell_type": "code",
   "execution_count": 69,
   "metadata": {},
   "outputs": [],
   "source": [
    "df_place_dict = df.groupby(['place']).count().sort_values(by='id',ascending=False)['id'].to_dict()"
   ]
  },
  {
   "cell_type": "code",
   "execution_count": 70,
   "metadata": {},
   "outputs": [],
   "source": [
    "df_place['number_of_tweets'] =  df_place.apply(lambda x:df_place_dict[x['place']],axis=1)"
   ]
  },
  {
   "cell_type": "code",
   "execution_count": 71,
   "metadata": {},
   "outputs": [],
   "source": [
    "top10_place_pos = df_place.sort_values(by='sentiment',ascending=False)[0:10].reset_index(drop=True)\n",
    "top10_place_neg = df_place.sort_values(by='sentiment',ascending=True)[0:10].reset_index(drop=True)\n",
    "top10_place     = df_place.sort_values(by='number_of_tweets',ascending=False)[0:10].reset_index(drop=True)"
   ]
  },
  {
   "cell_type": "markdown",
   "metadata": {},
   "source": [
    "now let's take a look at some places where the sentiment that is made from them is tend to be sensitive and also for places that made otherwise"
   ]
  },
  {
   "cell_type": "code",
   "execution_count": 72,
   "metadata": {},
   "outputs": [
    {
     "name": "stderr",
     "output_type": "stream",
     "text": [
      "C:\\anaconda\\lib\\site-packages\\matplotlib\\backends\\backend_agg.py:211: RuntimeWarning: Glyph 55356 missing from current font.\n",
      "  font.set_text(s, 0.0, flags=flags)\n",
      "C:\\anaconda\\lib\\site-packages\\matplotlib\\backends\\backend_agg.py:211: RuntimeWarning: Glyph 56814 missing from current font.\n",
      "  font.set_text(s, 0.0, flags=flags)\n",
      "C:\\anaconda\\lib\\site-packages\\matplotlib\\backends\\backend_agg.py:211: RuntimeWarning: Glyph 56809 missing from current font.\n",
      "  font.set_text(s, 0.0, flags=flags)\n",
      "C:\\anaconda\\lib\\site-packages\\matplotlib\\backends\\backend_agg.py:180: RuntimeWarning: Glyph 55356 missing from current font.\n",
      "  font.set_text(s, 0, flags=flags)\n",
      "C:\\anaconda\\lib\\site-packages\\matplotlib\\backends\\backend_agg.py:180: RuntimeWarning: Glyph 56814 missing from current font.\n",
      "  font.set_text(s, 0, flags=flags)\n",
      "C:\\anaconda\\lib\\site-packages\\matplotlib\\backends\\backend_agg.py:180: RuntimeWarning: Glyph 56809 missing from current font.\n",
      "  font.set_text(s, 0, flags=flags)\n"
     ]
    },
    {
     "data": {
      "image/png": "[encoded data removed]",
      "text/plain": [
       "<Figure size 720x720 with 2 Axes>"
      ]
     },
     "metadata": {},
     "output_type": "display_data"
    }
   ],
   "source": [
    "fig, (ax1, ax2) = plt.subplots(2, 1,figsize=(10,10))\n",
    "fig.suptitle('Most Positive and Most Negative Sentiment Place',fontweight='bold')\n",
    "h = sns.barplot(y='place',x='sentiment',data=top10_place_pos,ax=ax1,palette=sns.color_palette(\"Blues_d\",n_colors=10))\n",
    "n = sns.barplot(y='place',x='sentiment',data=top10_place_neg,ax=ax2,palette=sns.color_palette('RdPu_d',n_colors=10))\n",
    "ax1.set_title('Top 10 Positive')\n",
    "ax2.set_title('Top 10 Negative')\n",
    "plt.show()"
   ]
  },
  {
   "cell_type": "markdown",
   "metadata": {},
   "source": [
    "last but not least, let's take a look at some places where tweets is most often come from"
   ]
  },
  {
   "cell_type": "code",
   "execution_count": 73,
   "metadata": {},
   "outputs": [
    {
     "data": {
      "image/png": "[encoded data removed]",
      "text/plain": [
       "<Figure size 432x288 with 1 Axes>"
      ]
     },
     "metadata": {},
     "output_type": "display_data"
    }
   ],
   "source": [
    "pal =sns.dark_palette(\"green\", input=\"xkcd\",n_colors=10)\n",
    "g = sns.barplot(y = top10_place['place'] , x = top10_place['number_of_tweets'],palette=pal)\n",
    "g.grid=False\n",
    "plt.xlabel('number of tweets')\n",
    "plt.ylabel('place')\n",
    "plt.title(\"Top 10 Number of Tweets place\",fontweight='bold') \n",
    "\n",
    "for i in range(10):\n",
    "    g.text(top10_place['number_of_tweets'][i], i+0.22 ,round(top10_place['sentiment'][i],3),color='black')\n",
    "    \n",
    "plt.show()"
   ]
  }
 ],
 "metadata": {
  "kernelspec": {
   "display_name": "Python 3",
   "language": "python",
   "name": "python3"
  },
  "language_info": {
   "codemirror_mode": {
    "name": "ipython",
    "version": 3
   },
   "file_extension": ".py",
   "mimetype": "text/x-python",
   "name": "python",
   "nbconvert_exporter": "python",
   "pygments_lexer": "ipython3",
   "version": "3.7.6"
  }
 },
 "nbformat": 4,
 "nbformat_minor": 4
}
